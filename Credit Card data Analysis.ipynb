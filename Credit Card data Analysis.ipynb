{
 "cells": [
  {
   "cell_type": "markdown",
   "id": "15570f3e",
   "metadata": {},
   "source": [
    "# Data Description: \n",
    "The file Credit Card.csv contains data on 50000 customers. The data include customer demographic information (age, income,Credit Cards etc.). Among these 50000 customers, only 41464 (82.4%) accepted the credit card that was offered to them in the earlier campaign."
   ]
  },
  {
   "cell_type": "code",
   "execution_count": 2,
   "id": "16182faa",
   "metadata": {},
   "outputs": [],
   "source": [
    "import numpy as np\n",
    "import pandas as pd\n",
    "import seaborn as sns\n",
    "import matplotlib.pyplot as plt"
   ]
  },
  {
   "cell_type": "markdown",
   "id": "a677308c",
   "metadata": {},
   "source": [
    "# Aim"
   ]
  },
  {
   "cell_type": "markdown",
   "id": "4d11d284",
   "metadata": {},
   "source": [
    "\n",
    "Finding credit card users in a dataset to find out which ones are using the card well and which ones are doing badly\n",
    "\n"
   ]
  },
  {
   "cell_type": "markdown",
   "id": "66e0e196",
   "metadata": {},
   "source": [
    "# Data Collection and Cleaning :"
   ]
  },
  {
   "cell_type": "code",
   "execution_count": 3,
   "id": "cce59068",
   "metadata": {},
   "outputs": [
    {
     "name": "stderr",
     "output_type": "stream",
     "text": [
      "C:\\Users\\Saurav\\AppData\\Local\\Temp\\ipykernel_12388\\3553794863.py:1: DtypeWarning: Columns (18) have mixed types. Specify dtype option on import or set low_memory=False.\n",
      "  p1 = pd.read_csv(\"D:/Project 1/Creadit Cart Dataset 1 (1).csv\")\n"
     ]
    },
    {
     "data": {
      "text/html": [
       "<div>\n",
       "<style scoped>\n",
       "    .dataframe tbody tr th:only-of-type {\n",
       "        vertical-align: middle;\n",
       "    }\n",
       "\n",
       "    .dataframe tbody tr th {\n",
       "        vertical-align: top;\n",
       "    }\n",
       "\n",
       "    .dataframe thead th {\n",
       "        text-align: right;\n",
       "    }\n",
       "</style>\n",
       "<table border=\"1\" class=\"dataframe\">\n",
       "  <thead>\n",
       "    <tr style=\"text-align: right;\">\n",
       "      <th></th>\n",
       "      <th>Month</th>\n",
       "      <th>Name</th>\n",
       "      <th>Age</th>\n",
       "      <th>Unnamed: 3</th>\n",
       "      <th>Occupation</th>\n",
       "      <th>Annual_Income</th>\n",
       "      <th>Monthly_Inhand_Salary</th>\n",
       "      <th>Num_Bank_Accounts</th>\n",
       "      <th>Num_Credit_Card</th>\n",
       "      <th>Interest_Rate</th>\n",
       "      <th>...</th>\n",
       "      <th>Num_Credit_Inquiries</th>\n",
       "      <th>Credit_Mix</th>\n",
       "      <th>Outstanding_Debt</th>\n",
       "      <th>Unnamed: 18</th>\n",
       "      <th>Credit_History_Age</th>\n",
       "      <th>Payment_of_Min_Amount</th>\n",
       "      <th>Total_EMI_per_month</th>\n",
       "      <th>Amount_invested_monthly</th>\n",
       "      <th>Unnamed: 23</th>\n",
       "      <th>Monthly_Balance</th>\n",
       "    </tr>\n",
       "  </thead>\n",
       "  <tbody>\n",
       "    <tr>\n",
       "      <th>0</th>\n",
       "      <td>September</td>\n",
       "      <td>Aaron Maashoh</td>\n",
       "      <td>23.0</td>\n",
       "      <td>NaN</td>\n",
       "      <td>Scientist</td>\n",
       "      <td>19114.12</td>\n",
       "      <td>1824.843333</td>\n",
       "      <td>3.0</td>\n",
       "      <td>4.0</td>\n",
       "      <td>3.0</td>\n",
       "      <td>...</td>\n",
       "      <td>2022.0</td>\n",
       "      <td>Good</td>\n",
       "      <td>809.98</td>\n",
       "      <td>NaN</td>\n",
       "      <td>22 Years and 9 Months</td>\n",
       "      <td>No</td>\n",
       "      <td>49.574949</td>\n",
       "      <td>236.642682</td>\n",
       "      <td>NaN</td>\n",
       "      <td>186.266702</td>\n",
       "    </tr>\n",
       "    <tr>\n",
       "      <th>1</th>\n",
       "      <td>October</td>\n",
       "      <td>Aaron Maashoh</td>\n",
       "      <td>24.0</td>\n",
       "      <td>NaN</td>\n",
       "      <td>Scientist</td>\n",
       "      <td>19114.12</td>\n",
       "      <td>1824.843333</td>\n",
       "      <td>3.0</td>\n",
       "      <td>4.0</td>\n",
       "      <td>3.0</td>\n",
       "      <td>...</td>\n",
       "      <td>4.0</td>\n",
       "      <td>Good</td>\n",
       "      <td>809.98</td>\n",
       "      <td>NaN</td>\n",
       "      <td>22 Years and 10 Months</td>\n",
       "      <td>No</td>\n",
       "      <td>49.574949</td>\n",
       "      <td>21.465380</td>\n",
       "      <td>NaN</td>\n",
       "      <td>361.444004</td>\n",
       "    </tr>\n",
       "    <tr>\n",
       "      <th>2</th>\n",
       "      <td>November</td>\n",
       "      <td>Aaron Maashoh</td>\n",
       "      <td>24.0</td>\n",
       "      <td>NaN</td>\n",
       "      <td>Scientist</td>\n",
       "      <td>19114.12</td>\n",
       "      <td>1824.843333</td>\n",
       "      <td>3.0</td>\n",
       "      <td>4.0</td>\n",
       "      <td>3.0</td>\n",
       "      <td>...</td>\n",
       "      <td>4.0</td>\n",
       "      <td>Good</td>\n",
       "      <td>809.98</td>\n",
       "      <td>NaN</td>\n",
       "      <td>NaN</td>\n",
       "      <td>No</td>\n",
       "      <td>49.574949</td>\n",
       "      <td>148.233938</td>\n",
       "      <td>NaN</td>\n",
       "      <td>264.675446</td>\n",
       "    </tr>\n",
       "    <tr>\n",
       "      <th>3</th>\n",
       "      <td>December</td>\n",
       "      <td>Aaron Maashoh</td>\n",
       "      <td>24.0</td>\n",
       "      <td>NaN</td>\n",
       "      <td>Scientist</td>\n",
       "      <td>19114.12</td>\n",
       "      <td>NaN</td>\n",
       "      <td>3.0</td>\n",
       "      <td>4.0</td>\n",
       "      <td>3.0</td>\n",
       "      <td>...</td>\n",
       "      <td>4.0</td>\n",
       "      <td>Good</td>\n",
       "      <td>809.98</td>\n",
       "      <td>NaN</td>\n",
       "      <td>23 Years and 0 Months</td>\n",
       "      <td>No</td>\n",
       "      <td>49.574949</td>\n",
       "      <td>39.082511</td>\n",
       "      <td>NaN</td>\n",
       "      <td>343.826873</td>\n",
       "    </tr>\n",
       "    <tr>\n",
       "      <th>4</th>\n",
       "      <td>September</td>\n",
       "      <td>Rick Rothackerj</td>\n",
       "      <td>28.0</td>\n",
       "      <td>NaN</td>\n",
       "      <td>_______</td>\n",
       "      <td>34847.84</td>\n",
       "      <td>3037.986667</td>\n",
       "      <td>2.0</td>\n",
       "      <td>4.0</td>\n",
       "      <td>6.0</td>\n",
       "      <td>...</td>\n",
       "      <td>5.0</td>\n",
       "      <td>Good</td>\n",
       "      <td>605.03</td>\n",
       "      <td>NaN</td>\n",
       "      <td>27 Years and 3 Months</td>\n",
       "      <td>No</td>\n",
       "      <td>18.816215</td>\n",
       "      <td>39.684018</td>\n",
       "      <td>NaN</td>\n",
       "      <td>485.298434</td>\n",
       "    </tr>\n",
       "    <tr>\n",
       "      <th>...</th>\n",
       "      <td>...</td>\n",
       "      <td>...</td>\n",
       "      <td>...</td>\n",
       "      <td>...</td>\n",
       "      <td>...</td>\n",
       "      <td>...</td>\n",
       "      <td>...</td>\n",
       "      <td>...</td>\n",
       "      <td>...</td>\n",
       "      <td>...</td>\n",
       "      <td>...</td>\n",
       "      <td>...</td>\n",
       "      <td>...</td>\n",
       "      <td>...</td>\n",
       "      <td>...</td>\n",
       "      <td>...</td>\n",
       "      <td>...</td>\n",
       "      <td>...</td>\n",
       "      <td>...</td>\n",
       "      <td>...</td>\n",
       "      <td>...</td>\n",
       "    </tr>\n",
       "    <tr>\n",
       "      <th>49979</th>\n",
       "      <td>December</td>\n",
       "      <td>Sarah McBridec</td>\n",
       "      <td>4975.0</td>\n",
       "      <td>NaN</td>\n",
       "      <td>Architect</td>\n",
       "      <td>20002.88</td>\n",
       "      <td>1929.906667</td>\n",
       "      <td>10.0</td>\n",
       "      <td>8.0</td>\n",
       "      <td>29.0</td>\n",
       "      <td>...</td>\n",
       "      <td>12.0</td>\n",
       "      <td>_</td>\n",
       "      <td>3571.70</td>\n",
       "      <td>NaN</td>\n",
       "      <td>NaN</td>\n",
       "      <td>Yes</td>\n",
       "      <td>60.964772</td>\n",
       "      <td>146.486325</td>\n",
       "      <td>NaN</td>\n",
       "      <td>275.539570</td>\n",
       "    </tr>\n",
       "    <tr>\n",
       "      <th>49980</th>\n",
       "      <td>September</td>\n",
       "      <td>Nicks</td>\n",
       "      <td>25.0</td>\n",
       "      <td>NaN</td>\n",
       "      <td>Mechanic</td>\n",
       "      <td>39628.99</td>\n",
       "      <td>NaN</td>\n",
       "      <td>4.0</td>\n",
       "      <td>6.0</td>\n",
       "      <td>7.0</td>\n",
       "      <td>...</td>\n",
       "      <td>7.0</td>\n",
       "      <td>Good</td>\n",
       "      <td>502.38</td>\n",
       "      <td>NaN</td>\n",
       "      <td>31 Years and 11 Months</td>\n",
       "      <td>NM</td>\n",
       "      <td>35.104023</td>\n",
       "      <td>181.442999</td>\n",
       "      <td>NaN</td>\n",
       "      <td>409.394562</td>\n",
       "    </tr>\n",
       "    <tr>\n",
       "      <th>49981</th>\n",
       "      <td>October</td>\n",
       "      <td>Nicks</td>\n",
       "      <td>25.0</td>\n",
       "      <td>NaN</td>\n",
       "      <td>Mechanic</td>\n",
       "      <td>39628.99</td>\n",
       "      <td>3359.415833</td>\n",
       "      <td>4.0</td>\n",
       "      <td>6.0</td>\n",
       "      <td>7.0</td>\n",
       "      <td>...</td>\n",
       "      <td>7.0</td>\n",
       "      <td>Good</td>\n",
       "      <td>502.38</td>\n",
       "      <td>NaN</td>\n",
       "      <td>32 Years and 0 Months</td>\n",
       "      <td>No</td>\n",
       "      <td>35.104023</td>\n",
       "      <td>NaN</td>\n",
       "      <td>NaN</td>\n",
       "      <td>349.726332</td>\n",
       "    </tr>\n",
       "    <tr>\n",
       "      <th>49982</th>\n",
       "      <td>November</td>\n",
       "      <td>Nicks</td>\n",
       "      <td>25.0</td>\n",
       "      <td>NaN</td>\n",
       "      <td>Mechanic</td>\n",
       "      <td>39628.99</td>\n",
       "      <td>NaN</td>\n",
       "      <td>4.0</td>\n",
       "      <td>6.0</td>\n",
       "      <td>7.0</td>\n",
       "      <td>...</td>\n",
       "      <td>7.0</td>\n",
       "      <td>Good</td>\n",
       "      <td>502.38</td>\n",
       "      <td>NaN</td>\n",
       "      <td>32 Years and 1 Months</td>\n",
       "      <td>No</td>\n",
       "      <td>35.104023</td>\n",
       "      <td>97.598580</td>\n",
       "      <td>NaN</td>\n",
       "      <td>463.238981</td>\n",
       "    </tr>\n",
       "    <tr>\n",
       "      <th>49983</th>\n",
       "      <td>December</td>\n",
       "      <td>Nicks</td>\n",
       "      <td>25.0</td>\n",
       "      <td>NaN</td>\n",
       "      <td>Mechanic</td>\n",
       "      <td>39628.99</td>\n",
       "      <td>3359.415833</td>\n",
       "      <td>4.0</td>\n",
       "      <td>6.0</td>\n",
       "      <td>7.0</td>\n",
       "      <td>...</td>\n",
       "      <td>7.0</td>\n",
       "      <td>_</td>\n",
       "      <td>502.38</td>\n",
       "      <td>NaN</td>\n",
       "      <td>32 Years and 2 Months</td>\n",
       "      <td>No</td>\n",
       "      <td>35.104023</td>\n",
       "      <td>220.457878</td>\n",
       "      <td>NaN</td>\n",
       "      <td>360.379683</td>\n",
       "    </tr>\n",
       "  </tbody>\n",
       "</table>\n",
       "<p>49984 rows × 25 columns</p>\n",
       "</div>"
      ],
      "text/plain": [
       "           Month             Name     Age Unnamed: 3 Occupation  \\\n",
       "0      September    Aaron Maashoh    23.0        NaN  Scientist   \n",
       "1        October    Aaron Maashoh    24.0        NaN  Scientist   \n",
       "2       November    Aaron Maashoh    24.0        NaN  Scientist   \n",
       "3       December    Aaron Maashoh    24.0        NaN  Scientist   \n",
       "4      September  Rick Rothackerj    28.0        NaN    _______   \n",
       "...          ...              ...     ...        ...        ...   \n",
       "49979   December   Sarah McBridec  4975.0        NaN  Architect   \n",
       "49980  September            Nicks    25.0        NaN   Mechanic   \n",
       "49981    October            Nicks    25.0        NaN   Mechanic   \n",
       "49982   November            Nicks    25.0        NaN   Mechanic   \n",
       "49983   December            Nicks    25.0        NaN   Mechanic   \n",
       "\n",
       "       Annual_Income  Monthly_Inhand_Salary  Num_Bank_Accounts  \\\n",
       "0           19114.12            1824.843333                3.0   \n",
       "1           19114.12            1824.843333                3.0   \n",
       "2           19114.12            1824.843333                3.0   \n",
       "3           19114.12                    NaN                3.0   \n",
       "4           34847.84            3037.986667                2.0   \n",
       "...              ...                    ...                ...   \n",
       "49979       20002.88            1929.906667               10.0   \n",
       "49980       39628.99                    NaN                4.0   \n",
       "49981       39628.99            3359.415833                4.0   \n",
       "49982       39628.99                    NaN                4.0   \n",
       "49983       39628.99            3359.415833                4.0   \n",
       "\n",
       "       Num_Credit_Card  Interest_Rate  ...  Num_Credit_Inquiries Credit_Mix  \\\n",
       "0                  4.0            3.0  ...                2022.0       Good   \n",
       "1                  4.0            3.0  ...                   4.0       Good   \n",
       "2                  4.0            3.0  ...                   4.0       Good   \n",
       "3                  4.0            3.0  ...                   4.0       Good   \n",
       "4                  4.0            6.0  ...                   5.0       Good   \n",
       "...                ...            ...  ...                   ...        ...   \n",
       "49979              8.0           29.0  ...                  12.0          _   \n",
       "49980              6.0            7.0  ...                   7.0       Good   \n",
       "49981              6.0            7.0  ...                   7.0       Good   \n",
       "49982              6.0            7.0  ...                   7.0       Good   \n",
       "49983              6.0            7.0  ...                   7.0          _   \n",
       "\n",
       "       Outstanding_Debt  Unnamed: 18      Credit_History_Age  \\\n",
       "0                809.98          NaN   22 Years and 9 Months   \n",
       "1                809.98          NaN  22 Years and 10 Months   \n",
       "2                809.98          NaN                     NaN   \n",
       "3                809.98          NaN   23 Years and 0 Months   \n",
       "4                605.03          NaN   27 Years and 3 Months   \n",
       "...                 ...          ...                     ...   \n",
       "49979           3571.70          NaN                     NaN   \n",
       "49980            502.38          NaN  31 Years and 11 Months   \n",
       "49981            502.38          NaN   32 Years and 0 Months   \n",
       "49982            502.38          NaN   32 Years and 1 Months   \n",
       "49983            502.38          NaN   32 Years and 2 Months   \n",
       "\n",
       "       Payment_of_Min_Amount Total_EMI_per_month  Amount_invested_monthly  \\\n",
       "0                         No           49.574949               236.642682   \n",
       "1                         No           49.574949                21.465380   \n",
       "2                         No           49.574949               148.233938   \n",
       "3                         No           49.574949                39.082511   \n",
       "4                         No           18.816215                39.684018   \n",
       "...                      ...                 ...                      ...   \n",
       "49979                    Yes           60.964772               146.486325   \n",
       "49980                     NM           35.104023               181.442999   \n",
       "49981                     No           35.104023                      NaN   \n",
       "49982                     No           35.104023                97.598580   \n",
       "49983                     No           35.104023               220.457878   \n",
       "\n",
       "      Unnamed: 23 Monthly_Balance  \n",
       "0             NaN      186.266702  \n",
       "1             NaN      361.444004  \n",
       "2             NaN      264.675446  \n",
       "3             NaN      343.826873  \n",
       "4             NaN      485.298434  \n",
       "...           ...             ...  \n",
       "49979         NaN      275.539570  \n",
       "49980         NaN      409.394562  \n",
       "49981         NaN      349.726332  \n",
       "49982         NaN      463.238981  \n",
       "49983         NaN      360.379683  \n",
       "\n",
       "[49984 rows x 25 columns]"
      ]
     },
     "execution_count": 3,
     "metadata": {},
     "output_type": "execute_result"
    }
   ],
   "source": [
    "p1 = pd.read_csv(\"D:/Project 1/Creadit Cart Dataset 1 (1).csv\")\n",
    "p1"
   ]
  },
  {
   "cell_type": "code",
   "execution_count": 4,
   "id": "cf982eb8",
   "metadata": {},
   "outputs": [
    {
     "data": {
      "text/plain": [
       "(49984, 25)"
      ]
     },
     "execution_count": 4,
     "metadata": {},
     "output_type": "execute_result"
    }
   ],
   "source": [
    "p1.shape"
   ]
  },
  {
   "cell_type": "code",
   "execution_count": 6,
   "id": "d4a02f6c",
   "metadata": {},
   "outputs": [
    {
     "data": {
      "text/plain": [
       "Index(['Month', 'Name', 'Age', 'Unnamed: 3', 'Occupation', 'Annual_Income',\n",
       "       'Monthly_Inhand_Salary', 'Num_Bank_Accounts', 'Num_Credit_Card',\n",
       "       'Interest_Rate', 'Num_of_Loan', 'Type_of_Loan', 'Delay_from_due_date',\n",
       "       'Num_of_Delayed_Payment', 'Changed_Credit_Limit',\n",
       "       'Num_Credit_Inquiries', 'Credit_Mix', 'Outstanding_Debt', 'Unnamed: 18',\n",
       "       'Credit_History_Age', 'Payment_of_Min_Amount', 'Total_EMI_per_month',\n",
       "       'Amount_invested_monthly', 'Unnamed: 23', 'Monthly_Balance'],\n",
       "      dtype='object')"
      ]
     },
     "execution_count": 6,
     "metadata": {},
     "output_type": "execute_result"
    }
   ],
   "source": [
    "p1.columns"
   ]
  },
  {
   "cell_type": "code",
   "execution_count": 7,
   "id": "9fa2c2eb",
   "metadata": {},
   "outputs": [],
   "source": [
    "p1.columns = ('Month','Name','Age','Not REQ','Work','Annual Income','Inhand Salary($)','Bank Accounts','Credit Cards','Interest Rate($)','Loan($)','Loan Type','Due Date','Delayed Peyment','Changed Credit Limit','Inquiries','Behaviour','Debt','Not REQ','Years Of Use','Not REQ','EMI(M)','Invested(M)','Not REQ','Avai Balance($)')"
   ]
  },
  {
   "cell_type": "code",
   "execution_count": 8,
   "id": "8a285330",
   "metadata": {},
   "outputs": [],
   "source": [
    "p1.drop(columns=['Loan Type','Delayed Peyment','EMI(M)','Invested(M)','Years Of Use','Debt','Changed Credit Limit','Not REQ','Not REQ','Not REQ','Not REQ','Annual Income','Inquiries','Due Date' ],inplace=True)"
   ]
  },
  {
   "cell_type": "code",
   "execution_count": 9,
   "id": "0f3f0954",
   "metadata": {},
   "outputs": [
    {
     "data": {
      "text/html": [
       "<div>\n",
       "<style scoped>\n",
       "    .dataframe tbody tr th:only-of-type {\n",
       "        vertical-align: middle;\n",
       "    }\n",
       "\n",
       "    .dataframe tbody tr th {\n",
       "        vertical-align: top;\n",
       "    }\n",
       "\n",
       "    .dataframe thead th {\n",
       "        text-align: right;\n",
       "    }\n",
       "</style>\n",
       "<table border=\"1\" class=\"dataframe\">\n",
       "  <thead>\n",
       "    <tr style=\"text-align: right;\">\n",
       "      <th></th>\n",
       "      <th>Month</th>\n",
       "      <th>Name</th>\n",
       "      <th>Age</th>\n",
       "      <th>Work</th>\n",
       "      <th>Inhand Salary($)</th>\n",
       "      <th>Bank Accounts</th>\n",
       "      <th>Credit Cards</th>\n",
       "      <th>Interest Rate($)</th>\n",
       "      <th>Loan($)</th>\n",
       "      <th>Behaviour</th>\n",
       "      <th>Avai Balance($)</th>\n",
       "    </tr>\n",
       "  </thead>\n",
       "  <tbody>\n",
       "    <tr>\n",
       "      <th>0</th>\n",
       "      <td>September</td>\n",
       "      <td>Aaron Maashoh</td>\n",
       "      <td>23.0</td>\n",
       "      <td>Scientist</td>\n",
       "      <td>1824.843333</td>\n",
       "      <td>3.0</td>\n",
       "      <td>4.0</td>\n",
       "      <td>3.0</td>\n",
       "      <td>4.0</td>\n",
       "      <td>Good</td>\n",
       "      <td>186.266702</td>\n",
       "    </tr>\n",
       "    <tr>\n",
       "      <th>1</th>\n",
       "      <td>October</td>\n",
       "      <td>Aaron Maashoh</td>\n",
       "      <td>24.0</td>\n",
       "      <td>Scientist</td>\n",
       "      <td>1824.843333</td>\n",
       "      <td>3.0</td>\n",
       "      <td>4.0</td>\n",
       "      <td>3.0</td>\n",
       "      <td>4.0</td>\n",
       "      <td>Good</td>\n",
       "      <td>361.444004</td>\n",
       "    </tr>\n",
       "    <tr>\n",
       "      <th>2</th>\n",
       "      <td>November</td>\n",
       "      <td>Aaron Maashoh</td>\n",
       "      <td>24.0</td>\n",
       "      <td>Scientist</td>\n",
       "      <td>1824.843333</td>\n",
       "      <td>3.0</td>\n",
       "      <td>4.0</td>\n",
       "      <td>3.0</td>\n",
       "      <td>4.0</td>\n",
       "      <td>Good</td>\n",
       "      <td>264.675446</td>\n",
       "    </tr>\n",
       "    <tr>\n",
       "      <th>3</th>\n",
       "      <td>December</td>\n",
       "      <td>Aaron Maashoh</td>\n",
       "      <td>24.0</td>\n",
       "      <td>Scientist</td>\n",
       "      <td>NaN</td>\n",
       "      <td>3.0</td>\n",
       "      <td>4.0</td>\n",
       "      <td>3.0</td>\n",
       "      <td>4.0</td>\n",
       "      <td>Good</td>\n",
       "      <td>343.826873</td>\n",
       "    </tr>\n",
       "    <tr>\n",
       "      <th>4</th>\n",
       "      <td>September</td>\n",
       "      <td>Rick Rothackerj</td>\n",
       "      <td>28.0</td>\n",
       "      <td>_______</td>\n",
       "      <td>3037.986667</td>\n",
       "      <td>2.0</td>\n",
       "      <td>4.0</td>\n",
       "      <td>6.0</td>\n",
       "      <td>1.0</td>\n",
       "      <td>Good</td>\n",
       "      <td>485.298434</td>\n",
       "    </tr>\n",
       "  </tbody>\n",
       "</table>\n",
       "</div>"
      ],
      "text/plain": [
       "       Month             Name   Age       Work  Inhand Salary($)  \\\n",
       "0  September    Aaron Maashoh  23.0  Scientist       1824.843333   \n",
       "1    October    Aaron Maashoh  24.0  Scientist       1824.843333   \n",
       "2   November    Aaron Maashoh  24.0  Scientist       1824.843333   \n",
       "3   December    Aaron Maashoh  24.0  Scientist               NaN   \n",
       "4  September  Rick Rothackerj  28.0    _______       3037.986667   \n",
       "\n",
       "   Bank Accounts  Credit Cards  Interest Rate($)  Loan($) Behaviour  \\\n",
       "0            3.0           4.0               3.0      4.0      Good   \n",
       "1            3.0           4.0               3.0      4.0      Good   \n",
       "2            3.0           4.0               3.0      4.0      Good   \n",
       "3            3.0           4.0               3.0      4.0      Good   \n",
       "4            2.0           4.0               6.0      1.0      Good   \n",
       "\n",
       "   Avai Balance($)  \n",
       "0       186.266702  \n",
       "1       361.444004  \n",
       "2       264.675446  \n",
       "3       343.826873  \n",
       "4       485.298434  "
      ]
     },
     "execution_count": 9,
     "metadata": {},
     "output_type": "execute_result"
    }
   ],
   "source": [
    "p1.head()"
   ]
  },
  {
   "cell_type": "markdown",
   "id": "5927a368",
   "metadata": {},
   "source": [
    "# Check The Null Values ...!"
   ]
  },
  {
   "cell_type": "code",
   "execution_count": 10,
   "id": "8d259faa",
   "metadata": {},
   "outputs": [
    {
     "data": {
      "text/plain": [
       "Month                0.000000\n",
       "Name                10.025208\n",
       "Age                  0.256082\n",
       "Work                 0.000000\n",
       "Inhand Salary($)    15.056818\n",
       "Bank Accounts        0.074024\n",
       "Credit Cards         0.088028\n",
       "Interest Rate($)     0.124040\n",
       "Loan($)              0.076024\n",
       "Behaviour            0.122039\n",
       "Avai Balance($)      1.392446\n",
       "dtype: float64"
      ]
     },
     "execution_count": 10,
     "metadata": {},
     "output_type": "execute_result"
    }
   ],
   "source": [
    "p1.isnull().mean()*100"
   ]
  },
  {
   "cell_type": "code",
   "execution_count": 11,
   "id": "2e54edb8",
   "metadata": {},
   "outputs": [
    {
     "data": {
      "text/plain": [
       "10154"
      ]
     },
     "execution_count": 11,
     "metadata": {},
     "output_type": "execute_result"
    }
   ],
   "source": [
    "p1['Name'].nunique()"
   ]
  },
  {
   "cell_type": "code",
   "execution_count": 12,
   "id": "4b6ad6c2",
   "metadata": {},
   "outputs": [
    {
     "data": {
      "text/plain": [
       "0    ODonnell\n",
       "Name: Name, dtype: object"
      ]
     },
     "execution_count": 12,
     "metadata": {},
     "output_type": "execute_result"
    }
   ],
   "source": [
    "p1['Name'].mode()"
   ]
  },
  {
   "cell_type": "code",
   "execution_count": 13,
   "id": "79c59eb7",
   "metadata": {},
   "outputs": [],
   "source": [
    "p1['Name']=p1['Name'].fillna('ODonnell')"
   ]
  },
  {
   "cell_type": "markdown",
   "id": "491bca24",
   "metadata": {},
   "source": [
    "# Find The Outliers And Filled  Values In LF & HF ."
   ]
  },
  {
   "cell_type": "code",
   "execution_count": 14,
   "id": "807ea23a",
   "metadata": {},
   "outputs": [],
   "source": [
    "#Define A Outliers Form Dataset\n",
    "\n",
    "def outliers(df, column):\n",
    "    \n",
    "    q1 = df[column].quantile(0.25)\n",
    "    q3 = df[column].quantile(0.75)\n",
    "    iqr = q3 - q1\n",
    "    lower_fence = q1 - 1.5 * iqr\n",
    "    higher_fence = q3 + 1.5 * iqr\n",
    "    final_data = p1[(p1[column]>lower_fence) & (p1[column]<higher_fence)]\n",
    "    df = final_data.copy()\n",
    "    return lower_fence, higher_fence\n"
   ]
  },
  {
   "cell_type": "code",
   "execution_count": 15,
   "id": "cafb814a",
   "metadata": {},
   "outputs": [
    {
     "data": {
      "text/plain": [
       "(-2.0, 70.0)"
      ]
     },
     "execution_count": 15,
     "metadata": {},
     "output_type": "execute_result"
    }
   ],
   "source": [
    "outliers(p1,'Age')"
   ]
  },
  {
   "cell_type": "code",
   "execution_count": 16,
   "id": "03198cf9",
   "metadata": {},
   "outputs": [
    {
     "data": {
      "text/plain": [
       "(-4823.002381125, 12361.818967875)"
      ]
     },
     "execution_count": 16,
     "metadata": {},
     "output_type": "execute_result"
    }
   ],
   "source": [
    "outliers(p1,'Inhand Salary($)')"
   ]
  },
  {
   "cell_type": "code",
   "execution_count": 17,
   "id": "c04e1bcf",
   "metadata": {},
   "outputs": [
    {
     "data": {
      "text/plain": [
       "(-3.0, 13.0)"
      ]
     },
     "execution_count": 17,
     "metadata": {},
     "output_type": "execute_result"
    }
   ],
   "source": [
    "outliers(p1,'Bank Accounts')"
   ]
  },
  {
   "cell_type": "code",
   "execution_count": 18,
   "id": "48d89814",
   "metadata": {},
   "outputs": [
    {
     "data": {
      "text/plain": [
       "(-0.5, 11.5)"
      ]
     },
     "execution_count": 18,
     "metadata": {},
     "output_type": "execute_result"
    }
   ],
   "source": [
    "outliers(p1,'Credit Cards')"
   ]
  },
  {
   "cell_type": "code",
   "execution_count": 19,
   "id": "e8a53bb7",
   "metadata": {},
   "outputs": [
    {
     "data": {
      "text/plain": [
       "(-10.0, 38.0)"
      ]
     },
     "execution_count": 19,
     "metadata": {},
     "output_type": "execute_result"
    }
   ],
   "source": [
    "outliers(p1,'Interest Rate($)')"
   ]
  },
  {
   "cell_type": "code",
   "execution_count": 20,
   "id": "8575602f",
   "metadata": {},
   "outputs": [
    {
     "data": {
      "text/plain": [
       "(-5.0, 11.0)"
      ]
     },
     "execution_count": 20,
     "metadata": {},
     "output_type": "execute_result"
    }
   ],
   "source": [
    "outliers(p1,'Loan($)')"
   ]
  },
  {
   "cell_type": "code",
   "execution_count": 21,
   "id": "f6708095",
   "metadata": {},
   "outputs": [
    {
     "data": {
      "text/plain": [
       "(-30.01244613749998, 771.3763925625001)"
      ]
     },
     "execution_count": 21,
     "metadata": {},
     "output_type": "execute_result"
    }
   ],
   "source": [
    "outliers(p1,'Avai Balance($)')"
   ]
  },
  {
   "cell_type": "code",
   "execution_count": 22,
   "id": "37de0619",
   "metadata": {},
   "outputs": [
    {
     "name": "stdout",
     "output_type": "stream",
     "text": [
      "new data :  49856\n",
      "old data :  49856\n",
      "(49856, 11)\n",
      "\n",
      "new data :  42373\n",
      "old data :  42373\n",
      "(42373, 11)\n",
      "\n",
      "new data :  42373\n",
      "old data :  42373\n",
      "(42373, 11)\n",
      "\n",
      "new data :  42373\n",
      "old data :  42373\n",
      "(42373, 11)\n",
      "\n",
      "new data :  42373\n",
      "old data :  42373\n",
      "(42373, 11)\n",
      "\n",
      "new data :  42373\n",
      "old data :  42373\n",
      "(42373, 11)\n",
      "\n",
      "new data :  41891\n",
      "old data :  41891\n",
      "(41891, 11)\n",
      "\n"
     ]
    }
   ],
   "source": [
    "#Find The Outliers and Then loc It From Age\n",
    "\n",
    "p1.loc[(p1['Age'] >= 60) | (p1['Age'] <= 18)].shape\n",
    "new_p1 = p1.loc[(p1['Age'] <= 60) | (p1['Age'] >= 18)]\n",
    "new_p1.loc[new_p1['Age']>60,'Age'] = 60\n",
    "new_p1.loc[new_p1['Age']<18,'Age'] = 18\n",
    "p1= new_p1.copy()\n",
    "print('new data : ',len(new_p1))\n",
    "print('old data : ',len(p1))\n",
    "print(p1.shape)\n",
    "print()\n",
    "\n",
    "#Find The Outliers and Then loc It From Inhand Salary(M)\n",
    "\n",
    "p1.loc[(p1['Inhand Salary($)'] >= 12381) | (p1['Inhand Salary($)'] <= 0)].shape\n",
    "new_p1 = p1.loc[(p1['Inhand Salary($)'] <= 12381) | (p1['Inhand Salary($)'] >= 0)]\n",
    "new_p1.loc[new_p1['Inhand Salary($)']>12381,'Inhand Salary($)'] = 12381\n",
    "new_p1.loc[new_p1['Inhand Salary($)']<0,'Inhand Salary($)'] = 0\n",
    "p1= new_p1.copy()\n",
    "print('new data : ',len(new_p1))\n",
    "print('old data : ',len(p1))\n",
    "print(p1.shape)\n",
    "print()\n",
    "\n",
    "#Find The Outliers and Then loc It From Bank Accounts\n",
    "\n",
    "p1.loc[(p1['Bank Accounts'] >= 13) | (p1['Bank Accounts'] <= 0)].shape\n",
    "new_p1 = p1.loc[(p1['Bank Accounts'] <= 13) | (p1['Bank Accounts'] >= 0)]\n",
    "new_p1.loc[new_p1['Bank Accounts']>13,'Bank Accounts'] = 13\n",
    "new_p1.loc[new_p1['Bank Accounts']<0,'Bank Accounts'] = 0\n",
    "p1= new_p1.copy()\n",
    "print('new data : ',len(new_p1))\n",
    "print('old data : ',len(p1))\n",
    "print(p1.shape)\n",
    "print()\n",
    "\n",
    "#Find The Outliers and Then loc It From Credit Cards\n",
    "\n",
    "p1.loc[(p1['Credit Cards'] >= 11) | (p1['Credit Cards'] <= 0)].shape\n",
    "new_p1 = p1.loc[(p1['Credit Cards'] <= 11) | (p1['Credit Cards'] >= 0)]\n",
    "new_p1.loc[new_p1['Credit Cards']>11,'Credit Cards'] = 11\n",
    "new_p1.loc[new_p1['Credit Cards']<0,'Credit Cards'] = 0\n",
    "p1= new_p1.copy()\n",
    "print('new data : ',len(new_p1))\n",
    "print('old data : ',len(p1))\n",
    "print(p1.shape)\n",
    "print()\n",
    "\n",
    "#Find The Outliers and Then loc It From Interest Rate\n",
    "\n",
    "p1.loc[(p1['Interest Rate($)'] >= 38) | (p1['Interest Rate($)'] <= 0)].shape\n",
    "new_p1 = p1.loc[(p1['Interest Rate($)'] <= 38) | (p1['Interest Rate($)'] >= 0)]\n",
    "new_p1.loc[new_p1['Interest Rate($)']>38,'Interest Rate($)'] = 38\n",
    "new_p1.loc[new_p1['Interest Rate($)']<0,'Interest Rate($)'] = 0\n",
    "p1= new_p1.copy()\n",
    "print('new data : ',len(new_p1))\n",
    "print('old data : ',len(p1))\n",
    "print(p1.shape)\n",
    "print()\n",
    "\n",
    "#Find The Outliers and Then loc It From Loan\n",
    "\n",
    "p1.loc[(p1['Loan($)'] >= 11) | (p1['Loan($)'] <= 0)].shape\n",
    "new_p1 = p1.loc[(p1['Loan($)'] <= 11) | (p1['Loan($)'] >= 0)]\n",
    "new_p1.loc[new_p1['Loan($)']>11,'Loan($)'] = 11\n",
    "new_p1.loc[new_p1['Loan($)']<0,'Loan($)'] = 0\n",
    "p1= new_p1.copy()\n",
    "print('new data : ',len(new_p1))\n",
    "print('old data : ',len(p1))\n",
    "print(p1.shape)\n",
    "print()\n",
    "\n",
    "#Find The Outliers and Then loc It From Avai Balance(M)\n",
    "\n",
    "p1.loc[(p1['Avai Balance($)'] >= 772.056851175) | (p1['Avai Balance($)'] <= 0)].shape\n",
    "new_p1 = p1.loc[(p1['Avai Balance($)'] <= 772.056851175) | (p1['Avai Balance($)'] >= 0)]\n",
    "new_p1.loc[new_p1['Avai Balance($)']>772.056851175,'Avai Balance($)'] = 772.056851175\n",
    "new_p1.loc[new_p1['Avai Balance($)']<0,'Avai Balance($)'] = 0\n",
    "p1= new_p1.copy()\n",
    "print('new data : ',len(new_p1))\n",
    "print('old data : ',len(p1))\n",
    "print(p1.shape)\n",
    "print()"
   ]
  },
  {
   "cell_type": "code",
   "execution_count": 23,
   "id": "10055c88",
   "metadata": {},
   "outputs": [
    {
     "data": {
      "text/html": [
       "<div>\n",
       "<style scoped>\n",
       "    .dataframe tbody tr th:only-of-type {\n",
       "        vertical-align: middle;\n",
       "    }\n",
       "\n",
       "    .dataframe tbody tr th {\n",
       "        vertical-align: top;\n",
       "    }\n",
       "\n",
       "    .dataframe thead th {\n",
       "        text-align: right;\n",
       "    }\n",
       "</style>\n",
       "<table border=\"1\" class=\"dataframe\">\n",
       "  <thead>\n",
       "    <tr style=\"text-align: right;\">\n",
       "      <th></th>\n",
       "      <th>Month</th>\n",
       "      <th>Name</th>\n",
       "      <th>Age</th>\n",
       "      <th>Work</th>\n",
       "      <th>Inhand Salary($)</th>\n",
       "      <th>Bank Accounts</th>\n",
       "      <th>Credit Cards</th>\n",
       "      <th>Interest Rate($)</th>\n",
       "      <th>Loan($)</th>\n",
       "      <th>Behaviour</th>\n",
       "      <th>Avai Balance($)</th>\n",
       "    </tr>\n",
       "  </thead>\n",
       "  <tbody>\n",
       "    <tr>\n",
       "      <th>4499</th>\n",
       "      <td>October</td>\n",
       "      <td>Sinnerd</td>\n",
       "      <td>27.0</td>\n",
       "      <td>_______</td>\n",
       "      <td>5559.408333</td>\n",
       "      <td>4.0</td>\n",
       "      <td>4.0</td>\n",
       "      <td>2.0</td>\n",
       "      <td>3.0</td>\n",
       "      <td>Good</td>\n",
       "      <td>318.353150</td>\n",
       "    </tr>\n",
       "    <tr>\n",
       "      <th>12644</th>\n",
       "      <td>December</td>\n",
       "      <td>Camposr</td>\n",
       "      <td>45.0</td>\n",
       "      <td>_______</td>\n",
       "      <td>6044.505000</td>\n",
       "      <td>5.0</td>\n",
       "      <td>3.0</td>\n",
       "      <td>12.0</td>\n",
       "      <td>2.0</td>\n",
       "      <td>_</td>\n",
       "      <td>589.451303</td>\n",
       "    </tr>\n",
       "    <tr>\n",
       "      <th>31160</th>\n",
       "      <td>December</td>\n",
       "      <td>Grant McCoolw</td>\n",
       "      <td>21.0</td>\n",
       "      <td>Entrepreneur</td>\n",
       "      <td>10004.852500</td>\n",
       "      <td>3.0</td>\n",
       "      <td>2.0</td>\n",
       "      <td>5.0</td>\n",
       "      <td>3.0</td>\n",
       "      <td>Good</td>\n",
       "      <td>14.447402</td>\n",
       "    </tr>\n",
       "    <tr>\n",
       "      <th>4522</th>\n",
       "      <td>September</td>\n",
       "      <td>Michaelg,2002,,Accountant,97505.64,8343.47,3,5...</td>\n",
       "      <td>48.0</td>\n",
       "      <td>Accountant</td>\n",
       "      <td>7630.261703</td>\n",
       "      <td>3.0</td>\n",
       "      <td>5.0</td>\n",
       "      <td>1.0</td>\n",
       "      <td>0.0</td>\n",
       "      <td>Good</td>\n",
       "      <td>772.056851</td>\n",
       "    </tr>\n",
       "    <tr>\n",
       "      <th>43796</th>\n",
       "      <td>September</td>\n",
       "      <td>Sibonneyk</td>\n",
       "      <td>21.0</td>\n",
       "      <td>Architect</td>\n",
       "      <td>3147.645000</td>\n",
       "      <td>7.0</td>\n",
       "      <td>5.0</td>\n",
       "      <td>5.0</td>\n",
       "      <td>4.0</td>\n",
       "      <td>Standard</td>\n",
       "      <td>375.872321</td>\n",
       "    </tr>\n",
       "  </tbody>\n",
       "</table>\n",
       "</div>"
      ],
      "text/plain": [
       "           Month                                               Name   Age  \\\n",
       "4499     October                                            Sinnerd  27.0   \n",
       "12644   December                                            Camposr  45.0   \n",
       "31160   December                                      Grant McCoolw  21.0   \n",
       "4522   September  Michaelg,2002,,Accountant,97505.64,8343.47,3,5...  48.0   \n",
       "43796  September                                          Sibonneyk  21.0   \n",
       "\n",
       "               Work  Inhand Salary($)  Bank Accounts  Credit Cards  \\\n",
       "4499        _______       5559.408333            4.0           4.0   \n",
       "12644       _______       6044.505000            5.0           3.0   \n",
       "31160  Entrepreneur      10004.852500            3.0           2.0   \n",
       "4522     Accountant       7630.261703            3.0           5.0   \n",
       "43796     Architect       3147.645000            7.0           5.0   \n",
       "\n",
       "       Interest Rate($)  Loan($) Behaviour  Avai Balance($)  \n",
       "4499                2.0      3.0      Good       318.353150  \n",
       "12644              12.0      2.0         _       589.451303  \n",
       "31160               5.0      3.0      Good        14.447402  \n",
       "4522                1.0      0.0      Good       772.056851  \n",
       "43796               5.0      4.0  Standard       375.872321  "
      ]
     },
     "execution_count": 23,
     "metadata": {},
     "output_type": "execute_result"
    }
   ],
   "source": [
    "p1.sample(5)"
   ]
  },
  {
   "cell_type": "code",
   "execution_count": 24,
   "id": "e077e122",
   "metadata": {},
   "outputs": [
    {
     "data": {
      "text/plain": [
       "Month               0.0\n",
       "Name                0.0\n",
       "Age                 0.0\n",
       "Work                0.0\n",
       "Inhand Salary($)    0.0\n",
       "Bank Accounts       0.0\n",
       "Credit Cards        0.0\n",
       "Interest Rate($)    0.0\n",
       "Loan($)             0.0\n",
       "Behaviour           0.0\n",
       "Avai Balance($)     0.0\n",
       "dtype: float64"
      ]
     },
     "execution_count": 24,
     "metadata": {},
     "output_type": "execute_result"
    }
   ],
   "source": [
    "p1.isnull().mean()*100"
   ]
  },
  {
   "cell_type": "code",
   "execution_count": 25,
   "id": "391ff437",
   "metadata": {},
   "outputs": [
    {
     "data": {
      "text/plain": [
       "Interest Rate($)\n",
       "8.0     2102\n",
       "5.0     2089\n",
       "6.0     1976\n",
       "12.0    1920\n",
       "10.0    1901\n",
       "7.0     1893\n",
       "9.0     1885\n",
       "11.0    1843\n",
       "18.0    1739\n",
       "15.0    1690\n",
       "20.0    1660\n",
       "17.0    1600\n",
       "16.0    1537\n",
       "19.0    1499\n",
       "3.0     1174\n",
       "1.0     1136\n",
       "4.0     1086\n",
       "2.0     1046\n",
       "13.0    1007\n",
       "14.0     945\n",
       "38.0     816\n",
       "23.0     724\n",
       "32.0     722\n",
       "22.0     713\n",
       "24.0     700\n",
       "30.0     697\n",
       "29.0     684\n",
       "28.0     670\n",
       "27.0     670\n",
       "21.0     650\n",
       "25.0     635\n",
       "26.0     634\n",
       "34.0     625\n",
       "31.0     616\n",
       "33.0     607\n",
       "Name: count, dtype: int64"
      ]
     },
     "execution_count": 25,
     "metadata": {},
     "output_type": "execute_result"
    }
   ],
   "source": [
    "p1['Interest Rate($)'].value_counts()"
   ]
  },
  {
   "cell_type": "code",
   "execution_count": 26,
   "id": "d68479df",
   "metadata": {},
   "outputs": [
    {
     "data": {
      "text/plain": [
       "Loan($)\n",
       "2.0     6335\n",
       "3.0     6282\n",
       "0.0     6268\n",
       "4.0     6166\n",
       "1.0     4490\n",
       "6.0     3258\n",
       "7.0     3054\n",
       "5.0     3019\n",
       "9.0     1470\n",
       "8.0     1334\n",
       "11.0     215\n",
       "Name: count, dtype: int64"
      ]
     },
     "execution_count": 26,
     "metadata": {},
     "output_type": "execute_result"
    }
   ],
   "source": [
    "p1['Loan($)'].value_counts()"
   ]
  },
  {
   "cell_type": "markdown",
   "id": "587158de",
   "metadata": {},
   "source": [
    "# Check The Columns In dataset...!"
   ]
  },
  {
   "cell_type": "code",
   "execution_count": 27,
   "id": "91c6258f",
   "metadata": {},
   "outputs": [
    {
     "data": {
      "text/plain": [
       "Index(['Month', 'Name', 'Age', 'Work', 'Inhand Salary($)', 'Bank Accounts',\n",
       "       'Credit Cards', 'Interest Rate($)', 'Loan($)', 'Behaviour',\n",
       "       'Avai Balance($)'],\n",
       "      dtype='object')"
      ]
     },
     "execution_count": 27,
     "metadata": {},
     "output_type": "execute_result"
    }
   ],
   "source": [
    "p1.columns"
   ]
  },
  {
   "cell_type": "code",
   "execution_count": 28,
   "id": "4b3cb415",
   "metadata": {},
   "outputs": [
    {
     "name": "stdout",
     "output_type": "stream",
     "text": [
      "<class 'pandas.core.frame.DataFrame'>\n",
      "Index: 41891 entries, 0 to 49983\n",
      "Data columns (total 11 columns):\n",
      " #   Column            Non-Null Count  Dtype  \n",
      "---  ------            --------------  -----  \n",
      " 0   Month             41891 non-null  object \n",
      " 1   Name              41891 non-null  object \n",
      " 2   Age               41891 non-null  float64\n",
      " 3   Work              41891 non-null  object \n",
      " 4   Inhand Salary($)  41891 non-null  float64\n",
      " 5   Bank Accounts     41891 non-null  float64\n",
      " 6   Credit Cards      41891 non-null  float64\n",
      " 7   Interest Rate($)  41891 non-null  float64\n",
      " 8   Loan($)           41891 non-null  float64\n",
      " 9   Behaviour         41891 non-null  object \n",
      " 10  Avai Balance($)   41891 non-null  float64\n",
      "dtypes: float64(7), object(4)\n",
      "memory usage: 3.8+ MB\n"
     ]
    }
   ],
   "source": [
    "p1.info()"
   ]
  },
  {
   "cell_type": "markdown",
   "id": "995c0ceb",
   "metadata": {},
   "source": [
    "# Describe The Dataset...!"
   ]
  },
  {
   "cell_type": "code",
   "execution_count": 29,
   "id": "7344600a",
   "metadata": {},
   "outputs": [
    {
     "data": {
      "text/html": [
       "<div>\n",
       "<style scoped>\n",
       "    .dataframe tbody tr th:only-of-type {\n",
       "        vertical-align: middle;\n",
       "    }\n",
       "\n",
       "    .dataframe tbody tr th {\n",
       "        vertical-align: top;\n",
       "    }\n",
       "\n",
       "    .dataframe thead th {\n",
       "        text-align: right;\n",
       "    }\n",
       "</style>\n",
       "<table border=\"1\" class=\"dataframe\">\n",
       "  <thead>\n",
       "    <tr style=\"text-align: right;\">\n",
       "      <th></th>\n",
       "      <th>Age</th>\n",
       "      <th>Inhand Salary($)</th>\n",
       "      <th>Bank Accounts</th>\n",
       "      <th>Credit Cards</th>\n",
       "      <th>Interest Rate($)</th>\n",
       "      <th>Loan($)</th>\n",
       "      <th>Avai Balance($)</th>\n",
       "    </tr>\n",
       "  </thead>\n",
       "  <tbody>\n",
       "    <tr>\n",
       "      <th>count</th>\n",
       "      <td>41891.000000</td>\n",
       "      <td>41891.000000</td>\n",
       "      <td>41891.000000</td>\n",
       "      <td>41891.000000</td>\n",
       "      <td>41891.000000</td>\n",
       "      <td>41891.000000</td>\n",
       "      <td>41891.000000</td>\n",
       "    </tr>\n",
       "    <tr>\n",
       "      <th>mean</th>\n",
       "      <td>34.319090</td>\n",
       "      <td>4118.213939</td>\n",
       "      <td>5.458452</td>\n",
       "      <td>5.656275</td>\n",
       "      <td>14.953761</td>\n",
       "      <td>3.412618</td>\n",
       "      <td>389.155350</td>\n",
       "    </tr>\n",
       "    <tr>\n",
       "      <th>std</th>\n",
       "      <td>11.140203</td>\n",
       "      <td>3079.826709</td>\n",
       "      <td>2.714946</td>\n",
       "      <td>2.206869</td>\n",
       "      <td>9.233714</td>\n",
       "      <td>2.538944</td>\n",
       "      <td>175.661910</td>\n",
       "    </tr>\n",
       "    <tr>\n",
       "      <th>min</th>\n",
       "      <td>18.000000</td>\n",
       "      <td>303.645417</td>\n",
       "      <td>0.000000</td>\n",
       "      <td>0.000000</td>\n",
       "      <td>1.000000</td>\n",
       "      <td>0.000000</td>\n",
       "      <td>0.103402</td>\n",
       "    </tr>\n",
       "    <tr>\n",
       "      <th>25%</th>\n",
       "      <td>25.000000</td>\n",
       "      <td>1617.173333</td>\n",
       "      <td>3.000000</td>\n",
       "      <td>4.000000</td>\n",
       "      <td>8.000000</td>\n",
       "      <td>1.000000</td>\n",
       "      <td>270.565594</td>\n",
       "    </tr>\n",
       "    <tr>\n",
       "      <th>50%</th>\n",
       "      <td>34.000000</td>\n",
       "      <td>3050.206667</td>\n",
       "      <td>6.000000</td>\n",
       "      <td>5.000000</td>\n",
       "      <td>13.000000</td>\n",
       "      <td>3.000000</td>\n",
       "      <td>337.298226</td>\n",
       "    </tr>\n",
       "    <tr>\n",
       "      <th>75%</th>\n",
       "      <td>43.000000</td>\n",
       "      <td>5888.268333</td>\n",
       "      <td>7.000000</td>\n",
       "      <td>7.000000</td>\n",
       "      <td>20.000000</td>\n",
       "      <td>5.000000</td>\n",
       "      <td>470.898289</td>\n",
       "    </tr>\n",
       "    <tr>\n",
       "      <th>max</th>\n",
       "      <td>60.000000</td>\n",
       "      <td>12381.000000</td>\n",
       "      <td>13.000000</td>\n",
       "      <td>11.000000</td>\n",
       "      <td>38.000000</td>\n",
       "      <td>11.000000</td>\n",
       "      <td>772.056851</td>\n",
       "    </tr>\n",
       "  </tbody>\n",
       "</table>\n",
       "</div>"
      ],
      "text/plain": [
       "                Age  Inhand Salary($)  Bank Accounts  Credit Cards  \\\n",
       "count  41891.000000      41891.000000   41891.000000  41891.000000   \n",
       "mean      34.319090       4118.213939       5.458452      5.656275   \n",
       "std       11.140203       3079.826709       2.714946      2.206869   \n",
       "min       18.000000        303.645417       0.000000      0.000000   \n",
       "25%       25.000000       1617.173333       3.000000      4.000000   \n",
       "50%       34.000000       3050.206667       6.000000      5.000000   \n",
       "75%       43.000000       5888.268333       7.000000      7.000000   \n",
       "max       60.000000      12381.000000      13.000000     11.000000   \n",
       "\n",
       "       Interest Rate($)       Loan($)  Avai Balance($)  \n",
       "count      41891.000000  41891.000000     41891.000000  \n",
       "mean          14.953761      3.412618       389.155350  \n",
       "std            9.233714      2.538944       175.661910  \n",
       "min            1.000000      0.000000         0.103402  \n",
       "25%            8.000000      1.000000       270.565594  \n",
       "50%           13.000000      3.000000       337.298226  \n",
       "75%           20.000000      5.000000       470.898289  \n",
       "max           38.000000     11.000000       772.056851  "
      ]
     },
     "execution_count": 29,
     "metadata": {},
     "output_type": "execute_result"
    }
   ],
   "source": [
    "p1.describe()"
   ]
  },
  {
   "cell_type": "markdown",
   "id": "1a560aee",
   "metadata": {},
   "source": [
    "# Check The Data type Of Dataset...!"
   ]
  },
  {
   "cell_type": "code",
   "execution_count": 30,
   "id": "4ed12c3f",
   "metadata": {},
   "outputs": [
    {
     "data": {
      "text/plain": [
       "Month                object\n",
       "Name                 object\n",
       "Age                 float64\n",
       "Work                 object\n",
       "Inhand Salary($)    float64\n",
       "Bank Accounts       float64\n",
       "Credit Cards        float64\n",
       "Interest Rate($)    float64\n",
       "Loan($)             float64\n",
       "Behaviour            object\n",
       "Avai Balance($)     float64\n",
       "dtype: object"
      ]
     },
     "execution_count": 30,
     "metadata": {},
     "output_type": "execute_result"
    }
   ],
   "source": [
    "p1.dtypes"
   ]
  },
  {
   "cell_type": "code",
   "execution_count": 31,
   "id": "f1fab01f",
   "metadata": {
    "scrolled": true
   },
   "outputs": [
    {
     "data": {
      "text/plain": [
       "Work\n",
       "_______          2915\n",
       "Lawyer           2751\n",
       "Engineer         2682\n",
       "Architect        2675\n",
       "Mechanic         2640\n",
       "Accountant       2634\n",
       "Scientist        2629\n",
       "Media_Manager    2622\n",
       "Teacher          2616\n",
       "Developer        2613\n",
       "Entrepreneur     2603\n",
       "Journalist       2550\n",
       "Doctor           2520\n",
       "Manager          2517\n",
       "Writer           2493\n",
       "Musician         2431\n",
       "Name: count, dtype: int64"
      ]
     },
     "execution_count": 31,
     "metadata": {},
     "output_type": "execute_result"
    }
   ],
   "source": [
    "p1['Work'].value_counts()"
   ]
  },
  {
   "cell_type": "code",
   "execution_count": 33,
   "id": "94856c6c",
   "metadata": {},
   "outputs": [],
   "source": [
    "p1['Work'] = p1['Work'].str.replace('_______','Engineer')\n",
    "p1['Behaviour'] = p1['Behaviour'].str.replace('_','Good')"
   ]
  },
  {
   "cell_type": "code",
   "execution_count": 34,
   "id": "3c736ddc",
   "metadata": {},
   "outputs": [
    {
     "data": {
      "text/plain": [
       "Work\n",
       "Engineer         5597\n",
       "Lawyer           2751\n",
       "Architect        2675\n",
       "Mechanic         2640\n",
       "Accountant       2634\n",
       "Scientist        2629\n",
       "Media_Manager    2622\n",
       "Teacher          2616\n",
       "Developer        2613\n",
       "Entrepreneur     2603\n",
       "Journalist       2550\n",
       "Doctor           2520\n",
       "Manager          2517\n",
       "Writer           2493\n",
       "Musician         2431\n",
       "Name: count, dtype: int64"
      ]
     },
     "execution_count": 34,
     "metadata": {},
     "output_type": "execute_result"
    }
   ],
   "source": [
    "p1['Work'].value_counts()"
   ]
  },
  {
   "cell_type": "code",
   "execution_count": 33,
   "id": "3996092e",
   "metadata": {},
   "outputs": [
    {
     "data": {
      "text/html": [
       "<div>\n",
       "<style scoped>\n",
       "    .dataframe tbody tr th:only-of-type {\n",
       "        vertical-align: middle;\n",
       "    }\n",
       "\n",
       "    .dataframe tbody tr th {\n",
       "        vertical-align: top;\n",
       "    }\n",
       "\n",
       "    .dataframe thead th {\n",
       "        text-align: right;\n",
       "    }\n",
       "</style>\n",
       "<table border=\"1\" class=\"dataframe\">\n",
       "  <thead>\n",
       "    <tr style=\"text-align: right;\">\n",
       "      <th></th>\n",
       "      <th>Month</th>\n",
       "      <th>Name</th>\n",
       "      <th>Age</th>\n",
       "      <th>Work</th>\n",
       "      <th>Inhand Salary($)</th>\n",
       "      <th>Bank Accounts</th>\n",
       "      <th>Credit Cards</th>\n",
       "      <th>Interest Rate($)</th>\n",
       "      <th>Loan($)</th>\n",
       "      <th>Behaviour</th>\n",
       "      <th>Avai Balance($)</th>\n",
       "    </tr>\n",
       "  </thead>\n",
       "  <tbody>\n",
       "    <tr>\n",
       "      <th>37133</th>\n",
       "      <td>September</td>\n",
       "      <td>Olivia Orang</td>\n",
       "      <td>40.0</td>\n",
       "      <td>Engineer</td>\n",
       "      <td>1447.205833</td>\n",
       "      <td>10.0</td>\n",
       "      <td>10.0</td>\n",
       "      <td>31.0</td>\n",
       "      <td>8.0</td>\n",
       "      <td>Bad</td>\n",
       "      <td>243.033736</td>\n",
       "    </tr>\n",
       "    <tr>\n",
       "      <th>21223</th>\n",
       "      <td>November</td>\n",
       "      <td>Busvinen</td>\n",
       "      <td>37.0</td>\n",
       "      <td>Writer</td>\n",
       "      <td>1805.411667</td>\n",
       "      <td>8.0</td>\n",
       "      <td>6.0</td>\n",
       "      <td>31.0</td>\n",
       "      <td>2.0</td>\n",
       "      <td>Standard</td>\n",
       "      <td>366.564614</td>\n",
       "    </tr>\n",
       "    <tr>\n",
       "      <th>47526</th>\n",
       "      <td>November</td>\n",
       "      <td>Herbert Lasht</td>\n",
       "      <td>38.0</td>\n",
       "      <td>Engineer</td>\n",
       "      <td>5028.165000</td>\n",
       "      <td>8.0</td>\n",
       "      <td>7.0</td>\n",
       "      <td>32.0</td>\n",
       "      <td>8.0</td>\n",
       "      <td>Bad</td>\n",
       "      <td>36.448672</td>\n",
       "    </tr>\n",
       "    <tr>\n",
       "      <th>775</th>\n",
       "      <td>December</td>\n",
       "      <td>ODonnell</td>\n",
       "      <td>20.0</td>\n",
       "      <td>Lawyer</td>\n",
       "      <td>8205.496667</td>\n",
       "      <td>4.0</td>\n",
       "      <td>6.0</td>\n",
       "      <td>6.0</td>\n",
       "      <td>0.0</td>\n",
       "      <td>Good</td>\n",
       "      <td>772.056851</td>\n",
       "    </tr>\n",
       "    <tr>\n",
       "      <th>2836</th>\n",
       "      <td>September</td>\n",
       "      <td>Sumantax</td>\n",
       "      <td>34.0</td>\n",
       "      <td>Media_Manager</td>\n",
       "      <td>1447.354167</td>\n",
       "      <td>4.0</td>\n",
       "      <td>7.0</td>\n",
       "      <td>12.0</td>\n",
       "      <td>2.0</td>\n",
       "      <td>Standard</td>\n",
       "      <td>358.099305</td>\n",
       "    </tr>\n",
       "  </tbody>\n",
       "</table>\n",
       "</div>"
      ],
      "text/plain": [
       "           Month           Name   Age           Work  Inhand Salary($)  \\\n",
       "37133  September   Olivia Orang  40.0       Engineer       1447.205833   \n",
       "21223   November       Busvinen  37.0         Writer       1805.411667   \n",
       "47526   November  Herbert Lasht  38.0       Engineer       5028.165000   \n",
       "775     December       ODonnell  20.0         Lawyer       8205.496667   \n",
       "2836   September       Sumantax  34.0  Media_Manager       1447.354167   \n",
       "\n",
       "       Bank Accounts  Credit Cards  Interest Rate($)  Loan($) Behaviour  \\\n",
       "37133           10.0          10.0              31.0      8.0       Bad   \n",
       "21223            8.0           6.0              31.0      2.0  Standard   \n",
       "47526            8.0           7.0              32.0      8.0       Bad   \n",
       "775              4.0           6.0               6.0      0.0      Good   \n",
       "2836             4.0           7.0              12.0      2.0  Standard   \n",
       "\n",
       "       Avai Balance($)  \n",
       "37133       243.033736  \n",
       "21223       366.564614  \n",
       "47526        36.448672  \n",
       "775         772.056851  \n",
       "2836        358.099305  "
      ]
     },
     "execution_count": 33,
     "metadata": {},
     "output_type": "execute_result"
    }
   ],
   "source": [
    "p1.sample(5)"
   ]
  },
  {
   "cell_type": "markdown",
   "id": "c3970adf",
   "metadata": {},
   "source": [
    "# Exploratory Data Analysis (EDA):"
   ]
  },
  {
   "cell_type": "markdown",
   "id": "8ea575fa",
   "metadata": {},
   "source": [
    "# Age...!"
   ]
  },
  {
   "cell_type": "code",
   "execution_count": 35,
   "id": "a90574e4",
   "metadata": {},
   "outputs": [
    {
     "name": "stderr",
     "output_type": "stream",
     "text": [
      "C:\\Users\\Saurav\\anaconda3\\Lib\\site-packages\\seaborn\\_oldcore.py:1119: FutureWarning: use_inf_as_na option is deprecated and will be removed in a future version. Convert inf values to NaN before operating instead.\n",
      "  with pd.option_context('mode.use_inf_as_na', True):\n"
     ]
    },
    {
     "data": {
      "text/plain": [
       "<Axes: xlabel='Age', ylabel='Count'>"
      ]
     },
     "execution_count": 35,
     "metadata": {},
     "output_type": "execute_result"
    },
    {
     "data": {
      "image/png": "[encoded data removed]",
      "text/plain": [
       "<Figure size 640x480 with 1 Axes>"
      ]
     },
     "metadata": {},
     "output_type": "display_data"
    }
   ],
   "source": [
    "sns.histplot(p1['Age'],bins=5)"
   ]
  },
  {
   "cell_type": "code",
   "execution_count": 36,
   "id": "8deecf7f",
   "metadata": {},
   "outputs": [],
   "source": [
    "def work_cards(p1):\n",
    "    # Filter dataset based on age\n",
    "    \n",
    "    age = int(input(\"Enter Your Min Age : \"))\n",
    "    age1 = int(input(\"Enter Your Max Age : \"))\n",
    "    filtered_df = p1[(p1['Age'] >= age) & (p1['Age'] <= age1)]\n",
    "    \n",
    "    # Check if there are any users with the specified age\n",
    "    if filtered_df.empty:\n",
    "        print(f\"No users found with age {age}-{age1}\")\n",
    "        return\n",
    "    \n",
    "    # Create a bar plot\n",
    "    plt.figure(figsize=(12, 6))\n",
    "    sns.barplot(x='Credit Cards', y='Work', data=filtered_df, ci=None)\n",
    "    plt.title(f'Credit Cards by Work for Age {age}-{age1}')\n",
    "    plt.xlabel('Number of Credit Cards')\n",
    "    plt.ylabel('Work')\n",
    "    plt.show()\n",
    "    \n",
    "    return filtered_df"
   ]
  },
  {
   "cell_type": "code",
   "execution_count": 37,
   "id": "40eba49f",
   "metadata": {},
   "outputs": [
    {
     "name": "stdout",
     "output_type": "stream",
     "text": [
      "Enter Your Min Age : 18\n",
      "Enter Your Max Age : 20\n"
     ]
    },
    {
     "name": "stderr",
     "output_type": "stream",
     "text": [
      "C:\\Users\\Saurav\\AppData\\Local\\Temp\\ipykernel_12388\\461305475.py:15: FutureWarning: \n",
      "\n",
      "The `ci` parameter is deprecated. Use `errorbar=None` for the same effect.\n",
      "\n",
      "  sns.barplot(x='Credit Cards', y='Work', data=filtered_df, ci=None)\n"
     ]
    },
    {
     "data": {
      "image/png": "[encoded data removed]",
      "text/plain": [
       "<Figure size 1200x600 with 1 Axes>"
      ]
     },
     "metadata": {},
     "output_type": "display_data"
    },
    {
     "data": {
      "text/html": [
       "<div>\n",
       "<style scoped>\n",
       "    .dataframe tbody tr th:only-of-type {\n",
       "        vertical-align: middle;\n",
       "    }\n",
       "\n",
       "    .dataframe tbody tr th {\n",
       "        vertical-align: top;\n",
       "    }\n",
       "\n",
       "    .dataframe thead th {\n",
       "        text-align: right;\n",
       "    }\n",
       "</style>\n",
       "<table border=\"1\" class=\"dataframe\">\n",
       "  <thead>\n",
       "    <tr style=\"text-align: right;\">\n",
       "      <th></th>\n",
       "      <th>Month</th>\n",
       "      <th>Name</th>\n",
       "      <th>Age</th>\n",
       "      <th>Work</th>\n",
       "      <th>Inhand Salary($)</th>\n",
       "      <th>Bank Accounts</th>\n",
       "      <th>Credit Cards</th>\n",
       "      <th>Interest Rate($)</th>\n",
       "      <th>Loan($)</th>\n",
       "      <th>Behaviour</th>\n",
       "      <th>Avai Balance($)</th>\n",
       "    </tr>\n",
       "  </thead>\n",
       "  <tbody>\n",
       "    <tr>\n",
       "      <th>88</th>\n",
       "      <td>September</td>\n",
       "      <td>Nickb</td>\n",
       "      <td>20.0</td>\n",
       "      <td>Entrepreneur</td>\n",
       "      <td>8873.427500</td>\n",
       "      <td>4.0</td>\n",
       "      <td>4.0</td>\n",
       "      <td>1.0</td>\n",
       "      <td>0.0</td>\n",
       "      <td>Good</td>\n",
       "      <td>772.056851</td>\n",
       "    </tr>\n",
       "    <tr>\n",
       "      <th>89</th>\n",
       "      <td>October</td>\n",
       "      <td>Nickb</td>\n",
       "      <td>20.0</td>\n",
       "      <td>Entrepreneur</td>\n",
       "      <td>8873.427500</td>\n",
       "      <td>4.0</td>\n",
       "      <td>4.0</td>\n",
       "      <td>1.0</td>\n",
       "      <td>0.0</td>\n",
       "      <td>Good</td>\n",
       "      <td>772.056851</td>\n",
       "    </tr>\n",
       "    <tr>\n",
       "      <th>90</th>\n",
       "      <td>November</td>\n",
       "      <td>Nickb</td>\n",
       "      <td>20.0</td>\n",
       "      <td>Entrepreneur</td>\n",
       "      <td>8873.427500</td>\n",
       "      <td>4.0</td>\n",
       "      <td>4.0</td>\n",
       "      <td>1.0</td>\n",
       "      <td>0.0</td>\n",
       "      <td>Good</td>\n",
       "      <td>666.814149</td>\n",
       "    </tr>\n",
       "    <tr>\n",
       "      <th>91</th>\n",
       "      <td>December</td>\n",
       "      <td>Nickb</td>\n",
       "      <td>20.0</td>\n",
       "      <td>Engineer</td>\n",
       "      <td>8873.427500</td>\n",
       "      <td>4.0</td>\n",
       "      <td>4.0</td>\n",
       "      <td>1.0</td>\n",
       "      <td>0.0</td>\n",
       "      <td>Good</td>\n",
       "      <td>772.056851</td>\n",
       "    </tr>\n",
       "    <tr>\n",
       "      <th>144</th>\n",
       "      <td>September</td>\n",
       "      <td>ODonnell</td>\n",
       "      <td>18.0</td>\n",
       "      <td>Mechanic</td>\n",
       "      <td>2227.831667</td>\n",
       "      <td>13.0</td>\n",
       "      <td>7.0</td>\n",
       "      <td>24.0</td>\n",
       "      <td>5.0</td>\n",
       "      <td>Bad</td>\n",
       "      <td>255.826269</td>\n",
       "    </tr>\n",
       "    <tr>\n",
       "      <th>...</th>\n",
       "      <td>...</td>\n",
       "      <td>...</td>\n",
       "      <td>...</td>\n",
       "      <td>...</td>\n",
       "      <td>...</td>\n",
       "      <td>...</td>\n",
       "      <td>...</td>\n",
       "      <td>...</td>\n",
       "      <td>...</td>\n",
       "      <td>...</td>\n",
       "      <td>...</td>\n",
       "    </tr>\n",
       "    <tr>\n",
       "      <th>49892</th>\n",
       "      <td>September</td>\n",
       "      <td>ODonnell</td>\n",
       "      <td>20.0</td>\n",
       "      <td>Scientist</td>\n",
       "      <td>5421.206667</td>\n",
       "      <td>7.0</td>\n",
       "      <td>7.0</td>\n",
       "      <td>30.0</td>\n",
       "      <td>5.0</td>\n",
       "      <td>Standard</td>\n",
       "      <td>373.985705</td>\n",
       "    </tr>\n",
       "    <tr>\n",
       "      <th>49893</th>\n",
       "      <td>October</td>\n",
       "      <td>Dorisw</td>\n",
       "      <td>20.0</td>\n",
       "      <td>Scientist</td>\n",
       "      <td>5421.206667</td>\n",
       "      <td>7.0</td>\n",
       "      <td>7.0</td>\n",
       "      <td>30.0</td>\n",
       "      <td>5.0</td>\n",
       "      <td>Good</td>\n",
       "      <td>404.502907</td>\n",
       "    </tr>\n",
       "    <tr>\n",
       "      <th>49964</th>\n",
       "      <td>September</td>\n",
       "      <td>Lucia Mutikanik</td>\n",
       "      <td>19.0</td>\n",
       "      <td>Lawyer</td>\n",
       "      <td>3468.315833</td>\n",
       "      <td>0.0</td>\n",
       "      <td>4.0</td>\n",
       "      <td>6.0</td>\n",
       "      <td>1.0</td>\n",
       "      <td>Good</td>\n",
       "      <td>504.514644</td>\n",
       "    </tr>\n",
       "    <tr>\n",
       "      <th>49965</th>\n",
       "      <td>October</td>\n",
       "      <td>Lucia Mutikanik</td>\n",
       "      <td>19.0</td>\n",
       "      <td>Lawyer</td>\n",
       "      <td>3468.315833</td>\n",
       "      <td>13.0</td>\n",
       "      <td>4.0</td>\n",
       "      <td>6.0</td>\n",
       "      <td>1.0</td>\n",
       "      <td>Good</td>\n",
       "      <td>427.778039</td>\n",
       "    </tr>\n",
       "    <tr>\n",
       "      <th>49966</th>\n",
       "      <td>November</td>\n",
       "      <td>Lucia Mutikanik</td>\n",
       "      <td>19.0</td>\n",
       "      <td>Lawyer</td>\n",
       "      <td>3468.315833</td>\n",
       "      <td>0.0</td>\n",
       "      <td>4.0</td>\n",
       "      <td>6.0</td>\n",
       "      <td>1.0</td>\n",
       "      <td>Good</td>\n",
       "      <td>482.943974</td>\n",
       "    </tr>\n",
       "  </tbody>\n",
       "</table>\n",
       "<p>5443 rows × 11 columns</p>\n",
       "</div>"
      ],
      "text/plain": [
       "           Month             Name   Age          Work  Inhand Salary($)  \\\n",
       "88     September            Nickb  20.0  Entrepreneur       8873.427500   \n",
       "89       October            Nickb  20.0  Entrepreneur       8873.427500   \n",
       "90      November            Nickb  20.0  Entrepreneur       8873.427500   \n",
       "91      December            Nickb  20.0      Engineer       8873.427500   \n",
       "144    September         ODonnell  18.0      Mechanic       2227.831667   \n",
       "...          ...              ...   ...           ...               ...   \n",
       "49892  September         ODonnell  20.0     Scientist       5421.206667   \n",
       "49893    October           Dorisw  20.0     Scientist       5421.206667   \n",
       "49964  September  Lucia Mutikanik  19.0        Lawyer       3468.315833   \n",
       "49965    October  Lucia Mutikanik  19.0        Lawyer       3468.315833   \n",
       "49966   November  Lucia Mutikanik  19.0        Lawyer       3468.315833   \n",
       "\n",
       "       Bank Accounts  Credit Cards  Interest Rate($)  Loan($) Behaviour  \\\n",
       "88               4.0           4.0               1.0      0.0      Good   \n",
       "89               4.0           4.0               1.0      0.0      Good   \n",
       "90               4.0           4.0               1.0      0.0      Good   \n",
       "91               4.0           4.0               1.0      0.0      Good   \n",
       "144             13.0           7.0              24.0      5.0       Bad   \n",
       "...              ...           ...               ...      ...       ...   \n",
       "49892            7.0           7.0              30.0      5.0  Standard   \n",
       "49893            7.0           7.0              30.0      5.0      Good   \n",
       "49964            0.0           4.0               6.0      1.0      Good   \n",
       "49965           13.0           4.0               6.0      1.0      Good   \n",
       "49966            0.0           4.0               6.0      1.0      Good   \n",
       "\n",
       "       Avai Balance($)  \n",
       "88          772.056851  \n",
       "89          772.056851  \n",
       "90          666.814149  \n",
       "91          772.056851  \n",
       "144         255.826269  \n",
       "...                ...  \n",
       "49892       373.985705  \n",
       "49893       404.502907  \n",
       "49964       504.514644  \n",
       "49965       427.778039  \n",
       "49966       482.943974  \n",
       "\n",
       "[5443 rows x 11 columns]"
      ]
     },
     "execution_count": 37,
     "metadata": {},
     "output_type": "execute_result"
    }
   ],
   "source": [
    "work_cards(p1)"
   ]
  },
  {
   "cell_type": "markdown",
   "id": "67b8240e",
   "metadata": {},
   "source": [
    "# Check The Credit Cards Based Loan...!"
   ]
  },
  {
   "cell_type": "code",
   "execution_count": 37,
   "id": "5a904bf8",
   "metadata": {},
   "outputs": [
    {
     "data": {
      "text/plain": [
       "<Axes: xlabel='Credit Cards', ylabel='Loan($)'>"
      ]
     },
     "execution_count": 37,
     "metadata": {},
     "output_type": "execute_result"
    },
    {
     "data": {
      "image/png": "[encoded data removed]",
      "text/plain": [
       "<Figure size 640x480 with 1 Axes>"
      ]
     },
     "metadata": {},
     "output_type": "display_data"
    }
   ],
   "source": [
    "sns.barplot(x=p1['Credit Cards'],y=p1['Loan($)'])"
   ]
  },
  {
   "cell_type": "code",
   "execution_count": 38,
   "id": "a9cb7bd7",
   "metadata": {},
   "outputs": [],
   "source": [
    "# Check Non Loan And Loan Type Costumer Based On Credit Cards :\n",
    "\n",
    "def loan():\n",
    "\n",
    "    age = int(input(\"Enter minimum age: \"))\n",
    "    age1 = int(input(\"Enter maximum age: \"))\n",
    "\n",
    "# Filter the dataset based on user input\n",
    "    filtered_df = p1[(p1['Age'] >= age) & (p1['Age'] <= age1)]\n",
    "    print('filtered_df',filtered_df.shape)\n",
    "# Plot the data\n",
    "    sns.distplot(filtered_df[p1['Loan($)'] == 0]['Credit Cards'], hist=False, \n",
    "             label=\"Credit Card with NON personal loan\")\n",
    "\n",
    "    sns.distplot(filtered_df[p1['Loan($)'] >= 1]['Credit Cards'], hist=False,\n",
    "             label=\"Credit Card with personal loan\")\n",
    "\n",
    "    plt.legend()\n",
    "    plt.show()"
   ]
  },
  {
   "cell_type": "code",
   "execution_count": 39,
   "id": "f81c5f53",
   "metadata": {},
   "outputs": [
    {
     "name": "stdout",
     "output_type": "stream",
     "text": [
      "Enter minimum age: 18\n",
      "Enter maximum age: 28\n",
      "filtered_df (14823, 11)\n"
     ]
    },
    {
     "name": "stderr",
     "output_type": "stream",
     "text": [
      "C:\\Users\\Saurav\\AppData\\Local\\Temp\\ipykernel_4928\\835215831.py:12: UserWarning: Boolean Series key will be reindexed to match DataFrame index.\n",
      "  sns.distplot(filtered_df[p1['Loan($)'] == 0]['Credit Cards'], hist=False,\n",
      "C:\\Users\\Saurav\\AppData\\Local\\Temp\\ipykernel_4928\\835215831.py:12: UserWarning: \n",
      "\n",
      "`distplot` is a deprecated function and will be removed in seaborn v0.14.0.\n",
      "\n",
      "Please adapt your code to use either `displot` (a figure-level function with\n",
      "similar flexibility) or `kdeplot` (an axes-level function for kernel density plots).\n",
      "\n",
      "For a guide to updating your code to use the new functions, please see\n",
      "https://gist.github.com/mwaskom/de44147ed2974457ad6372750bbe5751\n",
      "\n",
      "  sns.distplot(filtered_df[p1['Loan($)'] == 0]['Credit Cards'], hist=False,\n",
      "C:\\Users\\Saurav\\anaconda3\\Lib\\site-packages\\seaborn\\_oldcore.py:1119: FutureWarning: use_inf_as_na option is deprecated and will be removed in a future version. Convert inf values to NaN before operating instead.\n",
      "  with pd.option_context('mode.use_inf_as_na', True):\n",
      "C:\\Users\\Saurav\\AppData\\Local\\Temp\\ipykernel_4928\\835215831.py:15: UserWarning: Boolean Series key will be reindexed to match DataFrame index.\n",
      "  sns.distplot(filtered_df[p1['Loan($)'] >= 1]['Credit Cards'], hist=False,\n",
      "C:\\Users\\Saurav\\AppData\\Local\\Temp\\ipykernel_4928\\835215831.py:15: UserWarning: \n",
      "\n",
      "`distplot` is a deprecated function and will be removed in seaborn v0.14.0.\n",
      "\n",
      "Please adapt your code to use either `displot` (a figure-level function with\n",
      "similar flexibility) or `kdeplot` (an axes-level function for kernel density plots).\n",
      "\n",
      "For a guide to updating your code to use the new functions, please see\n",
      "https://gist.github.com/mwaskom/de44147ed2974457ad6372750bbe5751\n",
      "\n",
      "  sns.distplot(filtered_df[p1['Loan($)'] >= 1]['Credit Cards'], hist=False,\n",
      "C:\\Users\\Saurav\\anaconda3\\Lib\\site-packages\\seaborn\\_oldcore.py:1119: FutureWarning: use_inf_as_na option is deprecated and will be removed in a future version. Convert inf values to NaN before operating instead.\n",
      "  with pd.option_context('mode.use_inf_as_na', True):\n"
     ]
    },
    {
     "data": {
      "image/png": "[encoded data removed]",
      "text/plain": [
       "<Figure size 640x480 with 1 Axes>"
      ]
     },
     "metadata": {},
     "output_type": "display_data"
    }
   ],
   "source": [
    "loan()"
   ]
  },
  {
   "cell_type": "markdown",
   "id": "0cb9cf62",
   "metadata": {},
   "source": [
    "# Check The behaviour Based Credit Cards And Work...!"
   ]
  },
  {
   "cell_type": "code",
   "execution_count": 40,
   "id": "827b6058",
   "metadata": {},
   "outputs": [
    {
     "data": {
      "text/plain": [
       "Behaviour\n",
       "Good        18523\n",
       "Standard    15403\n",
       "Bad          7965\n",
       "Name: count, dtype: int64"
      ]
     },
     "execution_count": 40,
     "metadata": {},
     "output_type": "execute_result"
    }
   ],
   "source": [
    "p1['Behaviour'].value_counts()"
   ]
  },
  {
   "cell_type": "code",
   "execution_count": 41,
   "id": "7a833457",
   "metadata": {},
   "outputs": [
    {
     "data": {
      "text/plain": [
       "<Axes: ylabel='count'>"
      ]
     },
     "execution_count": 41,
     "metadata": {},
     "output_type": "execute_result"
    },
    {
     "data": {
      "image/png": "[encoded data removed]",
      "text/plain": [
       "<Figure size 640x480 with 1 Axes>"
      ]
     },
     "metadata": {},
     "output_type": "display_data"
    }
   ],
   "source": [
    "p1['Behaviour'].value_counts().plot(kind='pie',autopct='%0.1f')"
   ]
  },
  {
   "cell_type": "code",
   "execution_count": 42,
   "id": "e0ba163b",
   "metadata": {},
   "outputs": [],
   "source": [
    "# Check The Behavior Base :\n",
    "\n",
    "def checking(p1):\n",
    "\n",
    "    age = int(input(\"Enter minimum age: \"))\n",
    "    age1 = int(input(\"Enter maximum age: \"))\n",
    "    \n",
    "    \n",
    "    p2 = p1[(p1['Age'] >= age) & (p1['Age'] <= age1)]\n",
    "    Behavior = input(\"Enter Your Behavior (Good/Std/Bad) : \")\n",
    "    if Behavior == 'Good':\n",
    "        return p2[(p2['Behaviour'] == 'Good')][['Age', 'Behaviour', 'Work', 'Credit Cards']]\n",
    "    elif Behavior == 'Std':\n",
    "        return p2[(p2['Behaviour'] == 'Standard')][['Age', 'Behaviour', 'Work', 'Credit Cards']]\n",
    "    elif Behavior == 'Bad':\n",
    "        return p2[(p2['Behaviour'] == 'Bad')][['Age', 'Behaviour', 'Work', 'Credit Cards']]\n",
    "    else:\n",
    "        return \"Enter Curret input\"\n",
    "    \n",
    "    \n",
    "    \n",
    "    plt.figure(figsize=(12, 6))\n",
    "    sns.barplot(x='Work', y='Credit Cards', data=Behavior, ci=None)\n",
    "    plt.title(f'Credit Cards by Work for {Behavior} Behaviour (Age {age}-{age1})')\n",
    "    plt.xlabel('Work')\n",
    "    plt.ylabel('Number of Credit Cards')\n",
    "    plt.xticks(rotation=45)\n",
    "    plt.show() \n",
    "\n",
    "    \n",
    " \n",
    "    #plt.bar(P2['Behavior'], p2['count'], tick_label=p2['Work'])\n",
    "    #plt.xlabel('Credit Cards')\n",
    "    #plt.ylabel('Work')\n",
    "    #plt.title('Credit Card With Work')\n",
    "    #plt.xticks(rotation=15)\n",
    "    #plt.show()\n"
   ]
  },
  {
   "cell_type": "code",
   "execution_count": 43,
   "id": "4609d4ad",
   "metadata": {},
   "outputs": [
    {
     "name": "stdout",
     "output_type": "stream",
     "text": [
      "Enter minimum age: 18\n",
      "Enter maximum age: 28\n",
      "Enter Your Behavior (Good/Std/Bad) : Good\n"
     ]
    },
    {
     "data": {
      "text/html": [
       "<div>\n",
       "<style scoped>\n",
       "    .dataframe tbody tr th:only-of-type {\n",
       "        vertical-align: middle;\n",
       "    }\n",
       "\n",
       "    .dataframe tbody tr th {\n",
       "        vertical-align: top;\n",
       "    }\n",
       "\n",
       "    .dataframe thead th {\n",
       "        text-align: right;\n",
       "    }\n",
       "</style>\n",
       "<table border=\"1\" class=\"dataframe\">\n",
       "  <thead>\n",
       "    <tr style=\"text-align: right;\">\n",
       "      <th></th>\n",
       "      <th>Age</th>\n",
       "      <th>Behaviour</th>\n",
       "      <th>Work</th>\n",
       "      <th>Credit Cards</th>\n",
       "    </tr>\n",
       "  </thead>\n",
       "  <tbody>\n",
       "    <tr>\n",
       "      <th>0</th>\n",
       "      <td>23.0</td>\n",
       "      <td>Good</td>\n",
       "      <td>Scientist</td>\n",
       "      <td>4.0</td>\n",
       "    </tr>\n",
       "    <tr>\n",
       "      <th>1</th>\n",
       "      <td>24.0</td>\n",
       "      <td>Good</td>\n",
       "      <td>Scientist</td>\n",
       "      <td>4.0</td>\n",
       "    </tr>\n",
       "    <tr>\n",
       "      <th>2</th>\n",
       "      <td>24.0</td>\n",
       "      <td>Good</td>\n",
       "      <td>Scientist</td>\n",
       "      <td>4.0</td>\n",
       "    </tr>\n",
       "    <tr>\n",
       "      <th>4</th>\n",
       "      <td>28.0</td>\n",
       "      <td>Good</td>\n",
       "      <td>Engineer</td>\n",
       "      <td>4.0</td>\n",
       "    </tr>\n",
       "    <tr>\n",
       "      <th>5</th>\n",
       "      <td>28.0</td>\n",
       "      <td>Good</td>\n",
       "      <td>Teacher</td>\n",
       "      <td>4.0</td>\n",
       "    </tr>\n",
       "    <tr>\n",
       "      <th>...</th>\n",
       "      <td>...</td>\n",
       "      <td>...</td>\n",
       "      <td>...</td>\n",
       "      <td>...</td>\n",
       "    </tr>\n",
       "    <tr>\n",
       "      <th>49964</th>\n",
       "      <td>19.0</td>\n",
       "      <td>Good</td>\n",
       "      <td>Lawyer</td>\n",
       "      <td>4.0</td>\n",
       "    </tr>\n",
       "    <tr>\n",
       "      <th>49965</th>\n",
       "      <td>19.0</td>\n",
       "      <td>Good</td>\n",
       "      <td>Lawyer</td>\n",
       "      <td>4.0</td>\n",
       "    </tr>\n",
       "    <tr>\n",
       "      <th>49966</th>\n",
       "      <td>19.0</td>\n",
       "      <td>Good</td>\n",
       "      <td>Lawyer</td>\n",
       "      <td>4.0</td>\n",
       "    </tr>\n",
       "    <tr>\n",
       "      <th>49981</th>\n",
       "      <td>25.0</td>\n",
       "      <td>Good</td>\n",
       "      <td>Mechanic</td>\n",
       "      <td>6.0</td>\n",
       "    </tr>\n",
       "    <tr>\n",
       "      <th>49983</th>\n",
       "      <td>25.0</td>\n",
       "      <td>Good</td>\n",
       "      <td>Mechanic</td>\n",
       "      <td>6.0</td>\n",
       "    </tr>\n",
       "  </tbody>\n",
       "</table>\n",
       "<p>5744 rows × 4 columns</p>\n",
       "</div>"
      ],
      "text/plain": [
       "        Age Behaviour       Work  Credit Cards\n",
       "0      23.0      Good  Scientist           4.0\n",
       "1      24.0      Good  Scientist           4.0\n",
       "2      24.0      Good  Scientist           4.0\n",
       "4      28.0      Good   Engineer           4.0\n",
       "5      28.0      Good    Teacher           4.0\n",
       "...     ...       ...        ...           ...\n",
       "49964  19.0      Good     Lawyer           4.0\n",
       "49965  19.0      Good     Lawyer           4.0\n",
       "49966  19.0      Good     Lawyer           4.0\n",
       "49981  25.0      Good   Mechanic           6.0\n",
       "49983  25.0      Good   Mechanic           6.0\n",
       "\n",
       "[5744 rows x 4 columns]"
      ]
     },
     "execution_count": 43,
     "metadata": {},
     "output_type": "execute_result"
    }
   ],
   "source": [
    "checking(p1)"
   ]
  },
  {
   "cell_type": "code",
   "execution_count": 44,
   "id": "549d4490",
   "metadata": {},
   "outputs": [
    {
     "name": "stdout",
     "output_type": "stream",
     "text": [
      "Enter minimum age: 18\n",
      "Enter maximum age: 28\n",
      "Enter Your Behavior (Good/Std/Bad) : Std\n"
     ]
    },
    {
     "data": {
      "text/html": [
       "<div>\n",
       "<style scoped>\n",
       "    .dataframe tbody tr th:only-of-type {\n",
       "        vertical-align: middle;\n",
       "    }\n",
       "\n",
       "    .dataframe tbody tr th {\n",
       "        vertical-align: top;\n",
       "    }\n",
       "\n",
       "    .dataframe thead th {\n",
       "        text-align: right;\n",
       "    }\n",
       "</style>\n",
       "<table border=\"1\" class=\"dataframe\">\n",
       "  <thead>\n",
       "    <tr style=\"text-align: right;\">\n",
       "      <th></th>\n",
       "      <th>Age</th>\n",
       "      <th>Behaviour</th>\n",
       "      <th>Work</th>\n",
       "      <th>Credit Cards</th>\n",
       "    </tr>\n",
       "  </thead>\n",
       "  <tbody>\n",
       "    <tr>\n",
       "      <th>17</th>\n",
       "      <td>22.0</td>\n",
       "      <td>Standard</td>\n",
       "      <td>Developer</td>\n",
       "      <td>5.0</td>\n",
       "    </tr>\n",
       "    <tr>\n",
       "      <th>18</th>\n",
       "      <td>22.0</td>\n",
       "      <td>Standard</td>\n",
       "      <td>Developer</td>\n",
       "      <td>5.0</td>\n",
       "    </tr>\n",
       "    <tr>\n",
       "      <th>19</th>\n",
       "      <td>22.0</td>\n",
       "      <td>Standard</td>\n",
       "      <td>Developer</td>\n",
       "      <td>5.0</td>\n",
       "    </tr>\n",
       "    <tr>\n",
       "      <th>66</th>\n",
       "      <td>21.0</td>\n",
       "      <td>Standard</td>\n",
       "      <td>Accountant</td>\n",
       "      <td>7.0</td>\n",
       "    </tr>\n",
       "    <tr>\n",
       "      <th>72</th>\n",
       "      <td>26.0</td>\n",
       "      <td>Standard</td>\n",
       "      <td>Engineer</td>\n",
       "      <td>6.0</td>\n",
       "    </tr>\n",
       "    <tr>\n",
       "      <th>...</th>\n",
       "      <td>...</td>\n",
       "      <td>...</td>\n",
       "      <td>...</td>\n",
       "      <td>...</td>\n",
       "    </tr>\n",
       "    <tr>\n",
       "      <th>49902</th>\n",
       "      <td>25.0</td>\n",
       "      <td>Standard</td>\n",
       "      <td>Musician</td>\n",
       "      <td>6.0</td>\n",
       "    </tr>\n",
       "    <tr>\n",
       "      <th>49903</th>\n",
       "      <td>25.0</td>\n",
       "      <td>Standard</td>\n",
       "      <td>Musician</td>\n",
       "      <td>6.0</td>\n",
       "    </tr>\n",
       "    <tr>\n",
       "      <th>49905</th>\n",
       "      <td>24.0</td>\n",
       "      <td>Standard</td>\n",
       "      <td>Architect</td>\n",
       "      <td>7.0</td>\n",
       "    </tr>\n",
       "    <tr>\n",
       "      <th>49906</th>\n",
       "      <td>24.0</td>\n",
       "      <td>Standard</td>\n",
       "      <td>Architect</td>\n",
       "      <td>7.0</td>\n",
       "    </tr>\n",
       "    <tr>\n",
       "      <th>49907</th>\n",
       "      <td>24.0</td>\n",
       "      <td>Standard</td>\n",
       "      <td>Architect</td>\n",
       "      <td>8.0</td>\n",
       "    </tr>\n",
       "  </tbody>\n",
       "</table>\n",
       "<p>5534 rows × 4 columns</p>\n",
       "</div>"
      ],
      "text/plain": [
       "        Age Behaviour        Work  Credit Cards\n",
       "17     22.0  Standard   Developer           5.0\n",
       "18     22.0  Standard   Developer           5.0\n",
       "19     22.0  Standard   Developer           5.0\n",
       "66     21.0  Standard  Accountant           7.0\n",
       "72     26.0  Standard    Engineer           6.0\n",
       "...     ...       ...         ...           ...\n",
       "49902  25.0  Standard    Musician           6.0\n",
       "49903  25.0  Standard    Musician           6.0\n",
       "49905  24.0  Standard   Architect           7.0\n",
       "49906  24.0  Standard   Architect           7.0\n",
       "49907  24.0  Standard   Architect           8.0\n",
       "\n",
       "[5534 rows x 4 columns]"
      ]
     },
     "execution_count": 44,
     "metadata": {},
     "output_type": "execute_result"
    }
   ],
   "source": [
    "checking(p1)"
   ]
  },
  {
   "cell_type": "code",
   "execution_count": 45,
   "id": "da10e26b",
   "metadata": {},
   "outputs": [
    {
     "name": "stdout",
     "output_type": "stream",
     "text": [
      "Enter minimum age: 18\n",
      "Enter maximum age: 28\n",
      "Enter Your Behavior (Good/Std/Bad) : Bad\n"
     ]
    },
    {
     "data": {
      "text/html": [
       "<div>\n",
       "<style scoped>\n",
       "    .dataframe tbody tr th:only-of-type {\n",
       "        vertical-align: middle;\n",
       "    }\n",
       "\n",
       "    .dataframe tbody tr th {\n",
       "        vertical-align: top;\n",
       "    }\n",
       "\n",
       "    .dataframe thead th {\n",
       "        text-align: right;\n",
       "    }\n",
       "</style>\n",
       "<table border=\"1\" class=\"dataframe\">\n",
       "  <thead>\n",
       "    <tr style=\"text-align: right;\">\n",
       "      <th></th>\n",
       "      <th>Age</th>\n",
       "      <th>Behaviour</th>\n",
       "      <th>Work</th>\n",
       "      <th>Credit Cards</th>\n",
       "    </tr>\n",
       "  </thead>\n",
       "  <tbody>\n",
       "    <tr>\n",
       "      <th>144</th>\n",
       "      <td>18.0</td>\n",
       "      <td>Bad</td>\n",
       "      <td>Mechanic</td>\n",
       "      <td>7.0</td>\n",
       "    </tr>\n",
       "    <tr>\n",
       "      <th>145</th>\n",
       "      <td>18.0</td>\n",
       "      <td>Bad</td>\n",
       "      <td>Mechanic</td>\n",
       "      <td>7.0</td>\n",
       "    </tr>\n",
       "    <tr>\n",
       "      <th>180</th>\n",
       "      <td>18.0</td>\n",
       "      <td>Bad</td>\n",
       "      <td>Entrepreneur</td>\n",
       "      <td>10.0</td>\n",
       "    </tr>\n",
       "    <tr>\n",
       "      <th>181</th>\n",
       "      <td>18.0</td>\n",
       "      <td>Bad</td>\n",
       "      <td>Entrepreneur</td>\n",
       "      <td>11.0</td>\n",
       "    </tr>\n",
       "    <tr>\n",
       "      <th>182</th>\n",
       "      <td>18.0</td>\n",
       "      <td>Bad</td>\n",
       "      <td>Entrepreneur</td>\n",
       "      <td>10.0</td>\n",
       "    </tr>\n",
       "    <tr>\n",
       "      <th>...</th>\n",
       "      <td>...</td>\n",
       "      <td>...</td>\n",
       "      <td>...</td>\n",
       "      <td>...</td>\n",
       "    </tr>\n",
       "    <tr>\n",
       "      <th>49859</th>\n",
       "      <td>22.0</td>\n",
       "      <td>Bad</td>\n",
       "      <td>Doctor</td>\n",
       "      <td>6.0</td>\n",
       "    </tr>\n",
       "    <tr>\n",
       "      <th>49860</th>\n",
       "      <td>24.0</td>\n",
       "      <td>Bad</td>\n",
       "      <td>Engineer</td>\n",
       "      <td>10.0</td>\n",
       "    </tr>\n",
       "    <tr>\n",
       "      <th>49884</th>\n",
       "      <td>18.0</td>\n",
       "      <td>Bad</td>\n",
       "      <td>Developer</td>\n",
       "      <td>8.0</td>\n",
       "    </tr>\n",
       "    <tr>\n",
       "      <th>49885</th>\n",
       "      <td>18.0</td>\n",
       "      <td>Bad</td>\n",
       "      <td>Developer</td>\n",
       "      <td>8.0</td>\n",
       "    </tr>\n",
       "    <tr>\n",
       "      <th>49887</th>\n",
       "      <td>18.0</td>\n",
       "      <td>Bad</td>\n",
       "      <td>Developer</td>\n",
       "      <td>8.0</td>\n",
       "    </tr>\n",
       "  </tbody>\n",
       "</table>\n",
       "<p>3545 rows × 4 columns</p>\n",
       "</div>"
      ],
      "text/plain": [
       "        Age Behaviour          Work  Credit Cards\n",
       "144    18.0       Bad      Mechanic           7.0\n",
       "145    18.0       Bad      Mechanic           7.0\n",
       "180    18.0       Bad  Entrepreneur          10.0\n",
       "181    18.0       Bad  Entrepreneur          11.0\n",
       "182    18.0       Bad  Entrepreneur          10.0\n",
       "...     ...       ...           ...           ...\n",
       "49859  22.0       Bad        Doctor           6.0\n",
       "49860  24.0       Bad      Engineer          10.0\n",
       "49884  18.0       Bad     Developer           8.0\n",
       "49885  18.0       Bad     Developer           8.0\n",
       "49887  18.0       Bad     Developer           8.0\n",
       "\n",
       "[3545 rows x 4 columns]"
      ]
     },
     "execution_count": 45,
     "metadata": {},
     "output_type": "execute_result"
    }
   ],
   "source": [
    "checking(p1)"
   ]
  },
  {
   "cell_type": "markdown",
   "id": "f54790b3",
   "metadata": {},
   "source": [
    "# Project Work :\n",
    "\n",
    "1.Data Cleaning\n",
    "\n",
    "2.Handle Outliers\n",
    "\n",
    "3.Convert Categortical into Numerical\n",
    "\n",
    "4.Data Fit\n",
    "\n",
    "5.Exploratory Data Analysis (EDA):"
   ]
  },
  {
   "cell_type": "markdown",
   "id": "bd0c34ee",
   "metadata": {},
   "source": [
    "# Conclusion "
   ]
  },
  {
   "cell_type": "markdown",
   "id": "d87656f2",
   "metadata": {},
   "source": [
    "\n",
    "* It takes at least 18 years to get a credit card.\n",
    "\n",
    "\n",
    "* 2000 $ is the minimum salary required to get a credit card,\n",
    "  Having a credit card helps to solve financial problems.\n",
    "\n",
    "\n",
    "\n",
    "* Most of the people in the age group of 18 to 28 are Engineers with 12570 followed by Doctors with     3000."
   ]
  },
  {
   "cell_type": "code",
   "execution_count": 46,
   "id": "84fae8f4",
   "metadata": {},
   "outputs": [],
   "source": [
    "def get_card():\n",
    "    min_age = 18\n",
    "    max_age = 60\n",
    "    min_salary = 2000\n",
    "    max_salary = 12000\n",
    "    min_loan = 1\n",
    "    max_loan = 38\n",
    "    min_credit_score = 500\n",
    "    max_credit_score = 900\n",
    "    \n",
    "    age = int(input(\"Enter Your Age : \"))\n",
    "    salary = float(input(\"Enter your Inhand Salary In ($) : \"))\n",
    "    loan = int(input(\"Enter Your Loan Amount In ($) :\"))\n",
    "    credit_score = int(input(\"Enter Your Credit Score : \"))\n",
    "    \n",
    "    if salary >= 2000 and salary <= 12000 and age >= 18 and age <= 60:\n",
    "        if credit_score >= 700 and credit_score <= 900 and loan >=1 and loan <= 15:\n",
    "            return \"Yes, you qualify for a credit card.\"\n",
    "        \n",
    "        elif credit_score >= 600 and credit_score < 700 and loan >= 16 and loan <= 25:\n",
    "            return \"You may qualify for a credit card, but it depends on other factors.\"\n",
    "        \n",
    "        else:\n",
    "            return \"No, you do not qualify for a credit card.\"\n",
    "    else:\n",
    "        return \"You do not meet the minimum salary or age requirements.\""
   ]
  },
  {
   "cell_type": "code",
   "execution_count": 47,
   "id": "c2aba22d",
   "metadata": {},
   "outputs": [
    {
     "name": "stdout",
     "output_type": "stream",
     "text": [
      "Enter Your Age : 22\n",
      "Enter your Inhand Salary In ($) : 2456\n",
      "Enter Your Loan Amount In ($) :65\n",
      "Enter Your Credit Score : 739\n"
     ]
    },
    {
     "data": {
      "text/plain": [
       "'No, you do not qualify for a credit card.'"
      ]
     },
     "execution_count": 47,
     "metadata": {},
     "output_type": "execute_result"
    }
   ],
   "source": [
    "get_card()"
   ]
  }
 ],
 "metadata": {
  "kernelspec": {
   "display_name": "Python 3 (ipykernel)",
   "language": "python",
   "name": "python3"
  },
  "language_info": {
   "codemirror_mode": {
    "name": "ipython",
    "version": 3
   },
   "file_extension": ".py",
   "mimetype": "text/x-python",
   "name": "python",
   "nbconvert_exporter": "python",
   "pygments_lexer": "ipython3",
   "version": "3.11.7"
  }
 },
 "nbformat": 4,
 "nbformat_minor": 5
}
